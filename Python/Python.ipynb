{
 "cells": [
  {
   "cell_type": "markdown",
   "metadata": {},
   "source": [
    "# **Python**\n"
   ]
  },
  {
   "cell_type": "markdown",
   "metadata": {},
   "source": [
    "# ***Sintaxe Basica***\n"
   ]
  },
  {
   "cell_type": "markdown",
   "metadata": {},
   "source": [
    "**Conceitos**\n",
    "\n",
    "- No python as variaveis são definidas diretamente e não possuem constantes (como o javascript 'const'), ou seja não é possivel impedir que uma variavel seja alterada. Isso requer muita atenção durante a definição das variaveis ao longo do codigo\n",
    "- Em python não existem constantes como em javascript (const) ou outras linguagens. Entretanto existe uma convenção que define que constantes em python devem ser escritas com ***todas as letras maiusculas***\n",
    "- Varias variaveis podem ser definidas/alteradas na mesma linha\n",
    "- Comentarios são feitos usando #\n",
    "- No python não são usadas chaves para determinar blocos e a identação é importante. Identação é o alinhamento da escrita do codigo\n",
    "- Cada instrução termina com uma nova linha exceto quando a linha termina com uma barra invertida, isso serve para dividir linhas grandes\n",
    "- O comando print() serve para imprimir retornos no console\n",
    "  - O comando print pode receber varias variaveis simultaneamente bem como parametros: print(variaveis,end='o que deve vir ao final do print', sep='o que vai separar os prints',file=,flush=)\n",
    "- O comando input() serve para solicitar uma entrada ao usuario\n",
    "  - A função input converte a entrada sempre para string"
   ]
  },
  {
   "cell_type": "code",
   "execution_count": null,
   "metadata": {},
   "outputs": [],
   "source": [
    "# Exemplo de variaveis\n",
    "x = 5\n",
    "print(x)\n",
    "\n",
    "# Exemplde constante (definida por convenção); alem de 2 variaveis definidas na mesma linha\n",
    "Y,y = 10,1\n",
    "print(f'Perceba que o python é case sensitive e a variavel Y: {Y} não tem o mesmo valor que y: {y}')\n",
    "\n",
    "# Linha sendo quebrada com \\ e sendo identada\n",
    "string_grande = 'Essa frase é um exemplo \\\n",
    "de linha grande que deve ser \\\n",
    "quebrada com uso de caractere especial'\n",
    "\n",
    "entrada = input('Digite um numero')\n",
    "print(type(entrada))"
   ]
  },
  {
   "cell_type": "code",
   "execution_count": null,
   "metadata": {},
   "outputs": [],
   "source": [
    "# Comando print\n",
    "x = 2\n",
    "y = 3\n",
    "z = 4\n",
    "print(x,y,z, sep='_',end='...n')"
   ]
  },
  {
   "cell_type": "markdown",
   "metadata": {},
   "source": [
    "# ***Tipos de dados***"
   ]
  },
  {
   "cell_type": "markdown",
   "metadata": {},
   "source": [
    "## **Strings**"
   ]
  },
  {
   "cell_type": "markdown",
   "metadata": {},
   "source": [
    "### **Conceitos**"
   ]
  },
  {
   "cell_type": "markdown",
   "metadata": {},
   "source": [
    "\n",
    "- Strings são caracteres de texto\n",
    "- Usados entre aspas"
   ]
  },
  {
   "cell_type": "code",
   "execution_count": null,
   "metadata": {},
   "outputs": [],
   "source": [
    "texto = \"Olá, mundo!\""
   ]
  },
  {
   "cell_type": "markdown",
   "metadata": {},
   "source": [
    "### **Metodos de string**"
   ]
  },
  {
   "cell_type": "code",
   "execution_count": null,
   "metadata": {},
   "outputs": [],
   "source": [
    "string = '   fElIpE hOrA   '\n",
    "\n",
    "# Metodo maiusculas\n",
    "print(f'String maiuscula: {string.upper()}')\n",
    "\n",
    "# Metodo minusculas\n",
    "print(f'String minuscula: {string.lower()}')\n",
    "\n",
    "# Metodo capitalize - primeira letra em maiuscula\n",
    "print(f'String capitalize: {string.capitalize()}')\n",
    "\n",
    "# Metodo title - primeira letra de cada palavra em maiuscula\n",
    "print(f'String title: {string.title()}')\n",
    "\n",
    "# Metodo strip - remove espaços em branco\n",
    "print(f'String strip: {string.strip()}')\n",
    "\n",
    "# Metodo strip left - remove espaços em branco da esquerda\n",
    "print(f'String strip left: {string.lstrip()}')\n",
    "\n",
    "# Metodo strip right - remove espaços em branco da direita\n",
    "print(f'String strip right: {string.rstrip()}')\n",
    "\n",
    "# Metodo split - divide a string em uma lista\n",
    "print(f'String split: {string.split()}')\n",
    "\n",
    "# Metodo replace - substitui uma string por outra\n",
    "print(f'String replace: {string.replace(\"hOrA\", \"lImA\")}')\n",
    "\n",
    "# Metodo join - junta uma lista de strings em uma string \n",
    "print(f'String join: {\".\".join(string.split())}') # (a sintaxe é 'caractere entre os itens da lista'.join(lista))\n",
    "\n",
    "# Metodo center - centraliza a string em uma determinada quantidade de caracteres, adicionando caracteres definidos para preencher\n",
    "print(f'String center: {string.center(20,\"*\")}')\n",
    "\n",
    "# Metodo index - encontra a posição da string\n",
    "print(f'String index: {string.index(\"h\")}')\n",
    "\n",
    "# Metodo find - encontra a posição da string\n",
    "print(f'String find: {string.find(\"r\")}')\n",
    "\n",
    "# Metodo count - conta quantas vezes uma string aparece em outra\n",
    "print(f'String count: {string.count(\"o\")}')\n",
    "\n",
    "#"
   ]
  },
  {
   "cell_type": "markdown",
   "metadata": {},
   "source": [
    "### **Interpolação de variaveis**"
   ]
  },
  {
   "cell_type": "code",
   "execution_count": null,
   "metadata": {},
   "outputs": [],
   "source": [
    "nome = 'felipe'\n",
    "idade = 29\n",
    "profissao = \"programador\"\n",
    "pessoa = {'nome':'felipe', 'idade':29, 'profissao':'programador'}\n",
    "pi = 3.1415\n",
    "# Metodo antigo (%)\n",
    "print('Old style: Oi, me chamo %s, tenho %d anos e sou %s' % (nome, idade, profissao))\n",
    "\n",
    "# Metodo format\n",
    "\n",
    "# Format com chaves\n",
    "print('Format com chaves: Oi, me chamo {}, tenho {} anos e sou {}'.format(nome, idade, profissao))\n",
    "\n",
    "# Format com indices\n",
    "print('Format com indices: Oi, me chamo {0}, tenho {1} anos e sou {2}'.format(nome, idade, profissao))\n",
    "\n",
    "# Format com chaves e indices\n",
    "print('Format com chaves e indices: Oi, me chamo {nome}, tenho {idade} anos e sou {profissao}'.format(nome=nome, idade=idade, profissao=profissao))\n",
    "\n",
    "# Format com dicionario\n",
    "print('Format com dicionario: Oi, me chamo {nome}, tenho {idade} anos e sou {profissao}'.format(**pessoa))\n",
    "\n",
    "# Metodo f-string\n",
    "print(f'Metodo F-string: Oi, me chamo {nome}, tenho {idade} anos e sou {profissao}')\n",
    "\n",
    "print(f'Numero Pi: {pi:.2f}') # formatação de numeros\n",
    "\n",
    "# É possivel utilizar formatação de strings dentro de strings usando aspas triplas (lembra o uso de marcação de codigo em markdown)\n",
    "print(f'''Oi, \n",
    "    me chamo {nome}, \n",
    "        tenho {idade} anos e \n",
    "            sou {profissao}\n",
    "      ''')"
   ]
  },
  {
   "cell_type": "markdown",
   "metadata": {},
   "source": [
    "### **Fatiamento de strings**"
   ]
  },
  {
   "cell_type": "code",
   "execution_count": null,
   "metadata": {},
   "outputs": [],
   "source": [
    "nome = 'Felipe Hora Lima'\n",
    "# Utilizando indice\n",
    "print(nome[0])\n",
    "\n",
    "# Utilizando indice negativo - retorna os valores começando a contagem do final\n",
    "print(nome[-1])\n",
    "\n",
    "# Utilizando fatias\n",
    "print(nome[:6]) # fatiando até o indice 6\n",
    "print(nome[7:]) # fatiando a partir do indice 7\n",
    "\n",
    "# Utilizando range - delimitando o indice inical e final\n",
    "print(nome[7:11])\n",
    "\n",
    "# Utilizando range com step - delimita o inicio, fim e quantos index devem ser 'pulados'\n",
    "print(nome[0:6:2])\n",
    "\n",
    "# Utilizando string completo\n",
    "print(nome[:])\n",
    "\n",
    "# Utilizando string invertida (espelhamento)\n",
    "print(nome[::-1])"
   ]
  },
  {
   "cell_type": "markdown",
   "metadata": {},
   "source": [
    "## **Numeros (int e float)**"
   ]
  },
  {
   "cell_type": "markdown",
   "metadata": {},
   "source": [
    "### **Conceitos**"
   ]
  },
  {
   "cell_type": "markdown",
   "metadata": {},
   "source": [
    "\n",
    "- No python os numeros decimais são separados por '.'"
   ]
  },
  {
   "cell_type": "code",
   "execution_count": null,
   "metadata": {},
   "outputs": [],
   "source": [
    "# Exemplo de tipos de dados\n",
    "inteiro = 10\n",
    "flutuante = 3.14"
   ]
  },
  {
   "cell_type": "markdown",
   "metadata": {},
   "source": [
    "### ***Operadores matematicos***"
   ]
  },
  {
   "cell_type": "code",
   "execution_count": null,
   "metadata": {},
   "outputs": [],
   "source": [
    "# Atribuição composta - faz uma operação com o proprio valor\n",
    "y+= 5 #15\n",
    "print(f'atribuição composta: {y}')\n",
    "# Soma\n",
    "print(f'soma: {1+1}')\n",
    "\n",
    "# Subtração\n",
    "print(f'subtração: {1-1}')\n",
    "\n",
    "# Multiplicação\n",
    "print(f'multiplicação: {2*5}')\n",
    "\n",
    "# Potenciação\n",
    "print(f'potenciação: {2**5}')\n",
    "\n",
    "# Divisão \n",
    "print(f'divisão: {3/2}')\n",
    "\n",
    "# Divisão inteira - retorna apenas o valor inteiro da divisão\n",
    "print(f'divisão inteira: {3//2}')\n",
    "\n",
    "# Resto da divisão\n",
    "print(f'resto da divisão: {3%2}')"
   ]
  },
  {
   "cell_type": "markdown",
   "metadata": {},
   "source": [
    "### ***Operadares de comparação***"
   ]
  },
  {
   "cell_type": "markdown",
   "metadata": {},
   "source": [
    "## **Booleano**"
   ]
  },
  {
   "cell_type": "code",
   "execution_count": null,
   "metadata": {},
   "outputs": [],
   "source": [
    "verdadeiro = True\n",
    "falso = False"
   ]
  },
  {
   "cell_type": "markdown",
   "metadata": {},
   "source": [
    "## **Listas**"
   ]
  },
  {
   "cell_type": "markdown",
   "metadata": {},
   "source": [
    "- Listas são coleções ordenadas e ***mutaveis***\n",
    "- As listas podem ter varios tipos de dados ao mesmo tempo\n",
    "- O construtor de listas é a função: list( )\n",
    "- O acesso aos itens da lista é feito pelo index \n",
    "- Lista aninhada (matriz) é uma lista de listas ou que contem listas"
   ]
  },
  {
   "cell_type": "code",
   "execution_count": null,
   "metadata": {},
   "outputs": [],
   "source": [
    "# Exemplo de listas\n",
    "lista = [1, 2, 3, 4, 5]\n",
    "print(lista)\n",
    "\n",
    "# Lista com construtor\n",
    "lista_string = list('python')\n",
    "print(lista_string)\n",
    "lista_numeros = list(range(10))\n",
    "print(lista_numeros)\n",
    "lista_diversa = ['ferrari', 'v8', 2000, True]\n",
    "\n",
    "# Acesso aos itens da lista (index) - index negativo pega os itens da lista começando pelo fim\n",
    "print(lista_diversa[0])\n",
    "print(lista_diversa[-1])\n",
    "\n",
    "# Lista aninhada \n",
    "lista_aninhada = [1, 2, [3, 4, [5]]]\n",
    "print(lista_aninhada[2][2][0])"
   ]
  },
  {
   "cell_type": "markdown",
   "metadata": {},
   "source": [
    "### **Fatiamento**"
   ]
  },
  {
   "cell_type": "code",
   "execution_count": null,
   "metadata": {},
   "outputs": [],
   "source": [
    "lista = [0,1,2,3,4,5,6,7,8,9]\n",
    "print(f'Fatiamento até o indice: {lista[:2]}')\n",
    "print(f'Fatiamento a partir do indice: {lista[2:]}')\n",
    "print(f'Fatiamento de intervalo: {lista[2:5]}')\n",
    "print(f'Fatiamento de 2 em 2: {lista[::2]}')\n",
    "print(f'Fatiamento reverso: {lista[::-1]}')\n",
    "print(f'Copia da lista: {lista[::]}')"
   ]
  },
  {
   "cell_type": "markdown",
   "metadata": {},
   "source": [
    "### **Iteração**"
   ]
  },
  {
   "cell_type": "markdown",
   "metadata": {},
   "source": [
    "- A iteração de listas é feito com for\n",
    "- Uma forma de manipular listas é atraves do uso de compreension. O compreension é um for dentro de um array\n",
    "  - A sintaxe do compreension é a seguinte: lista = ['*O que deve ser feito no fim*' **for** '*variavel do for*' **in** '*nome da lista*' **if** '*estrutura if (se houver)*']"
   ]
  },
  {
   "cell_type": "code",
   "execution_count": null,
   "metadata": {},
   "outputs": [],
   "source": [
    "lista = [0,1,2,3,4,5,6,7,8,9]\n",
    "lista_par = []\n",
    "\n",
    "# Iteração com for\n",
    "for num in lista:\n",
    "    if num % 2 == 0:\n",
    "        lista_par.append(num)\n",
    "print(lista_par)\n",
    "\n",
    "# Compreension\n",
    "lista_par = [numero for numero in lista if numero % 2 == 0] # A estrutura if no compreension é opcional, ver exemplo abaixo\n",
    "\n",
    "lista_ao_quadrado = []\n",
    "for num in lista:\n",
    "    lista_ao_quadrado.append(num**2)\n",
    "# Com compreension o for acima é feito da seguinte forma\n",
    "lista_ao_quadrado = [num**2 for num in lista] # Perceba q n tem a parte do if"
   ]
  },
  {
   "cell_type": "markdown",
   "metadata": {},
   "source": [
    "### **Metodos de listas**"
   ]
  },
  {
   "cell_type": "code",
   "execution_count": null,
   "metadata": {},
   "outputs": [],
   "source": [
    "lista = [0,1,2,3,4,5,6,7,8,9]\n",
    "# Metodo append - adiciona um item ao fim da lista\n",
    "lista.append(10)\n",
    "print(f'Append:{lista}')\n",
    "\n",
    "# Metodo insert - adiciona itens em uma posição especifica\n",
    "lista.insert(11,11)\n",
    "print(f'Insert:{lista}')\n",
    "\n",
    "# Metodo extend - adiciona varios itens a uma lista\n",
    "lista.extend([12,13,14])\n",
    "print(f'Extend:{lista}')\n",
    "\n",
    "# Metodo index - retorna a posição da primeia ocorrencia de um item na lista\n",
    "print(f'Index:{lista.index(12)}')\n",
    "\n",
    "# Metodo count - conta quantas vezes um item aparece na lista\n",
    "print(f'Count:{lista.count(0)}')\n",
    "\n",
    "# Metodo copy - copia uma lista (o retorono do copy é uma lista diferente e identica)\n",
    "lista2 = lista.copy()\n",
    "print(f'Copy:{lista2}')\n",
    "\n",
    "# Metodo remove - remove um item especifico da lista\n",
    "lista.remove(11)\n",
    "print(f'Remove:{lista}')\n",
    "\n",
    "# Metodo pop - remove o ultimo item da lista caso não seja especificado um indice, caso seja, remove o item na posição especificada. Retorna o item removido.\n",
    "lista.pop()\n",
    "print(f'Pop:{lista}')\n",
    "lista.pop(0)\n",
    "print(f'Pop indice 0:{lista}')\n",
    "\n",
    "# Metodo clear - limpa a lista\n",
    "lista.clear()\n",
    "print(f'Clear:{lista}')\n",
    "\n",
    "lista = [0,1,2,3,4,5,6,7,8,9]\n",
    "# Metodo reverse - inverte a ordem da lista\n",
    "lista.reverse()\n",
    "print(f'Reverse:{lista}')\n",
    "\n",
    "# Metodo sort - ordena a lista de acordo com o valor do item, se o item for um numero, ordena de forma crescente, se for uma string, ordena de forma alfabetica. Retorna a lista ordenada.\n",
    "lista.sort()\n",
    "print(f'Sort:{lista}')\n",
    "lista.sort(reverse=True)\n",
    "print(f'Sort reverse:{lista}')\n",
    "lista.sort(key=lambda x: x % 2) # ordena a lista de acordo com a função chamada\n",
    "print(f'Sort key modulo 2:{lista}')\n",
    "lista.sort(key=lambda x: x % 2,reverse=True) # as condições sort podem ser combinadas\n",
    "print(f'Sort key modulo 2 reverse:{lista}')\n",
    "\n",
    "# Metodo len - retorna o tamanho da lista\n",
    "print(f'Len:{len(lista)}')\n",
    "\n",
    "# Metodo sorted - retorna uma lista ordenada sem alterar a lista original (igual ao sort, mas o sorted é uma função)\n",
    "print(f'Sorted:{sorted(lista,reverse=True)}')"
   ]
  },
  {
   "cell_type": "code",
   "execution_count": null,
   "metadata": {},
   "outputs": [],
   "source": [
    "numeros = [n**2 if n > 6 else n for n in range(10) if n % 2 == 0]\n",
    "print(numeros)"
   ]
  },
  {
   "cell_type": "markdown",
   "metadata": {},
   "source": [
    "## **Tuplas**"
   ]
  },
  {
   "cell_type": "markdown",
   "metadata": {},
   "source": [
    "- Tupla: coleções ordenadas ***imutaveis***\n",
    "- A função construtora de tuplas é a tuple( )\n",
    "- O python pode ter problemas ao interpretar tuplas e confundir com precedencia e por isso ao usar tuplas sempre deve deixar uma virgula sobrando antes de fechar o parenteses. PRINCIPALMENTE EM TUPLAS COM 1 ELEMENTO SÓ (boa pratica)\n",
    "- Quanto aos metodos, fatiamento e iterações a tupla funciona da mesma forma que a lista. As excessões são os metodos que adicionam itens, afinal tuplas são **imutaveis**"
   ]
  },
  {
   "cell_type": "code",
   "execution_count": null,
   "metadata": {},
   "outputs": [],
   "source": [
    "# Exemplo de tuplas\n",
    "tupla = (0,1, 2, 3, 4, 5,6,7,8,9,)\n",
    "print(tupla)\n",
    "\n",
    "# Matriz de tuplas\n",
    "matriz = ((1, 2, 3), (4, 5, 6), (7, 8, 9))\n",
    "print(matriz)\n",
    "\n",
    "# Acesso\n",
    "print(matriz[1][0])\n",
    "\n",
    "# Iteração\n",
    "for i in tupla:\n",
    "    print(i)\n",
    "\n",
    "# Enumerate\n",
    "for indice, numero in enumerate(tupla):\n",
    "    print(indice, numero)\n",
    "\n",
    "# Metodo count - conta os elementos\n",
    "print(f'Count:{tupla.count(5)}')\n",
    "\n",
    "# Metodo index - retorna o indice do elemento especificado\n",
    "print(f'Index:{tupla.index(5)}')\n",
    "\n",
    "# Metodo len - retorna o tamanho da tupla\n",
    "print(f'Len:{len(tupla)}')"
   ]
  },
  {
   "cell_type": "markdown",
   "metadata": {},
   "source": [
    "## **Sets**"
   ]
  },
  {
   "cell_type": "markdown",
   "metadata": {},
   "source": [
    "- Conjunto(set): coleções não ordenadas de ***itens unicos***\n",
    "- Se houver elementos repetidos no set quando for feita a chamada ele retornara apenas os itens unicos. Ou seja ele permite colocar itens repetidos mas só retorna itens unicos (ver exemplo de codigo)\n",
    "- O retorno do set **não garante a ordem**\n",
    "- A função construtora de set é o set( )\n",
    "- Os sets não permitem indexação, portanto para acessar o set ele deve ser convertido em lista"
   ]
  },
  {
   "cell_type": "code",
   "execution_count": null,
   "metadata": {},
   "outputs": [],
   "source": [
    "# Exemplo de sets\n",
    "conjunto = {1, 1, 3, 4, 5}\n",
    "print(conjunto)\n",
    "string = set('abacaxi')\n",
    "print(string)\n",
    "\n",
    "# Conversão de set\n",
    "lista_string = (list(string))\n",
    "print(lista_string)\n",
    "\n",
    "# Uso do enumerate\n",
    "lista_string = list(enumerate(string))\n",
    "print(lista_string)\n",
    "\n",
    "# "
   ]
  },
  {
   "cell_type": "markdown",
   "metadata": {},
   "source": [
    "### **Metodos set**"
   ]
  },
  {
   "cell_type": "code",
   "execution_count": null,
   "metadata": {},
   "outputs": [],
   "source": [
    "set1 = {0,1,2,3}\n",
    "set2 = {3,4,5,6}\n",
    "\n",
    "# Metodo union - junta sets\n",
    "print(f'Union: {set1.union(set2)}')\n",
    "\n",
    "# Metodo intersection - retorna o que tem em comum\n",
    "print(f'Intersection: {set1.intersection(set2)}')\n",
    "\n",
    "# Metodo difference - retorna o que não tem em comum\n",
    "print(f'Difference: {set1.difference(set2)}')\n",
    "\n",
    "# Metodo symmetric_difference - retorna o que tem em comum e o que não tem em comum\n",
    "print(f'Symetric difference: {set1.symmetric_difference(set2)}')\n",
    "\n",
    "# Metodo issubset - verifica se um set é subconjunto de outro\n",
    "print(f'Issubset: {set1.issubset(set2)}')\n",
    "\n",
    "# Metodo issuperset - verifica se um set é superconjunto de outro\n",
    "print(f'Issuperset: {set1.issuperset(set2)}')\n",
    "\n",
    "# Metodo isdisjoint - verifica se um set é disjunto de outro, ou seja os sets não tem intersecção\n",
    "print(f'Isdisjoint: {set1.isdisjoint(set2)}')\n",
    "\n",
    "# Metodo update - adiciona elementos ao set\n",
    "set1.update(set2)\n",
    "print(f'Update: {set1}')\n",
    "\n",
    "# Metodo add - adiciona elementos ao set, se já houver ele ignora\n",
    "set1.add(7)\n",
    "print(f'Add: {set1}')\n",
    "\n",
    "# Metodo remove - remove elementos do set, se o elemento não existir ele lança um erro de execução\n",
    "set1.remove(3)\n",
    "print(f'Remove: {set1}')\n",
    "\n",
    "# Metodo discard - remove elementos do set, se não houver ele ignora e continua sem erros\n",
    "set1.discard(8)\n",
    "print(f'Discard: {set1}')\n",
    "\n",
    "# Metodo pop - remove o ultimo elemento do set\n",
    "set1.pop()\n",
    "print(f'Pop: {set1}')\n",
    "\n",
    "# Metodo clear - limpa o set\n",
    "set1.clear()\n",
    "print(f'Clear: {set1}')\n",
    "\n",
    "# Metodo copy - copia o set\n",
    "set1.copy()\n",
    "print(f'Copy: {set2}')\n",
    "\n",
    "# Metodo len - retorna o tamanho do set\n",
    "print(f'Len: {len(set2)}')"
   ]
  },
  {
   "cell_type": "markdown",
   "metadata": {},
   "source": [
    "## **Dicionarios**"
   ]
  },
  {
   "cell_type": "markdown",
   "metadata": {},
   "source": [
    "- Dicionario: coleções de ***pares chave-valor*** unicos, similar aos objetos JS\n",
    "- A função criadora de dicionario é a dict( )\n",
    "- O acesso é feito por declaração direta e não por indexação"
   ]
  },
  {
   "cell_type": "code",
   "execution_count": null,
   "metadata": {},
   "outputs": [],
   "source": [
    "# Exemplo de dicionários\n",
    "dicionario = {'a': 'felipe', 'b': 2, 'c': True}\n",
    "print(dicionario)\n",
    "\n",
    "pessoa = dict(nome='felipe',sobrenome = 'lima', idade=29)\n",
    "print(pessoa)\n",
    "\n",
    "# Acesso aos valores\n",
    "print(f'Acesso: {pessoa[\"nome\"]}')\n",
    "\n",
    "# Alterando valores\n",
    "pessoa['sobrenome'] = 'hora'\n",
    "print(f'Alterando sobrenome: {pessoa}')\n",
    "\n",
    "# Dicionario aninhado - um dicionario de dicionario\n",
    "contatos = {'email@email.com': {'nome': 'felipe', 'sobrenome': 'lima', 'idade': 29}, \n",
    "            'matadordeporco@email.com':{'nome':'shaolin','sobrenome':'pigslayer'}}\n",
    "\n",
    "print(f'Dicionario aninhado: {contatos[\"email@email.com\"][\"nome\"]}')\n",
    "print(f'Dicionario aninhado: {contatos[\"matadordeporco@email.com\"][\"nome\"]}')"
   ]
  },
  {
   "cell_type": "markdown",
   "metadata": {},
   "source": [
    "### **Iteração**"
   ]
  },
  {
   "cell_type": "code",
   "execution_count": null,
   "metadata": {},
   "outputs": [],
   "source": [
    "contatos = {'email@email.com': {'nome': 'felipe', 'sobrenome': 'lima', 'idade': 29}, \n",
    "            'matadordeporco@email.com':{'nome':'shaolin','sobrenome':'pigslayer'}}\n",
    "# O for retorna apenas o item do dicionario e não o valor\n",
    "for contato in contatos:\n",
    "    print(f'Contato com for: {contato}')\n",
    "\n",
    "# O for com .itens() é o mais usado e o ideal\n",
    "for chave,valor in contatos.items():\n",
    "    print(f'Contato com for .items(): {chave} {valor}')"
   ]
  },
  {
   "cell_type": "markdown",
   "metadata": {},
   "source": [
    "### **Metodos do dicionario**"
   ]
  },
  {
   "cell_type": "code",
   "execution_count": null,
   "metadata": {},
   "outputs": [],
   "source": [
    "pessoa = dict(nome='felipe',sobrenome = 'lima', idade=29)\n",
    "\n",
    "# Metodo copy\n",
    "pessoa2 = pessoa.copy()\n",
    "print(f'Copy: {pessoa2}')\n",
    "\n",
    "# Método fromkeys - cria um dicionário com chaves e atribui um valor padrão a elas ou adiciona chaves a um dicionário existente\n",
    "chaves = ('endereço', 'rg', 'cpf')\n",
    "# Criação de dicionário com chaves e valor padrão\n",
    "pessoa3 = dict.fromkeys(chaves, 'vazio')  # sintaxe: ([lista de chaves], valor padrão)\n",
    "print(f'Fromkeys: {pessoa3}')\n",
    "# Adicionando chaves a um dicionário existente\n",
    "pessoa = {'nome': 'João', 'idade': 30}  # Exemplo de dicionário existente\n",
    "pessoa.update(dict.fromkeys(chaves, 'vazio'))\n",
    "print(f'Fromkeys: {pessoa}')\n",
    "\n",
    "# Metodo clear - limpa o dicionario\n",
    "pessoa.clear()\n",
    "print(f'Clear \"pessoa\": {pessoa}')\n",
    "\n",
    "# Metodo get - retorna o valor de uma chave específica, se não houver a chave retorna 'none' ou devolve um valor default\n",
    "print(f'Get: {pessoa2.get(\"nome\")}')\n",
    "print(f'Get: {pessoa2.get(\"signo\", \"Não encontrado\")}')\n",
    "\n",
    "# Metodo items - retorna uma lista com os pares chave/valor\n",
    "print(f'Items: {pessoa2.items()}')\n",
    "\n",
    "# Metodo keys - retorna uma lista com as chaves\n",
    "print(f'Keys: {pessoa2.keys()}')\n",
    "\n",
    "# Metodo pop - remove uma chave e seu valor do dicionário e retorna o valor removido ou um valor default\n",
    "alteracao = pessoa2.pop(\"nome\",\"Não encontrado\")\n",
    "print(f'Pop: {alteracao}')\n",
    "alteracao = pessoa2.pop(\"signo\", \"Não encontrado\")\n",
    "print(f'Pop: {alteracao}')\n",
    "\n",
    "# Metodo popitem - remove a chave e o valor do dicionário e retorna um par chave/valor\n",
    "alteracao = pessoa2.popitem()\n",
    "print(f'Popitem: {alteracao}')\n",
    "\n",
    "# Metodo setdefault - adiciona uma chave ao dicionário e retorna o valor da chave ou um valor default caso não exista no dicionario\n",
    "pessoa2.setdefault('nome', 'Maria')\n",
    "print(f'Setdefault: {pessoa2}')\n",
    "\n",
    "# Metodo update - altera o dicionario para um novo padrão, adiciona/atualiza itens\n",
    "pessoa2.update({'signo': 'Gêmeos'})\n",
    "print(f'Update: {pessoa2}')\n",
    "\n",
    "# Metodo values - retorna uma lista com os valores do dicionario\n",
    "print(f'Values: {pessoa2.values()}')\n",
    "\n",
    "# Metodo in - verifica se uma chave existe no dicionario\n",
    "print(f'In: {\"nome\" in pessoa2}')\n",
    "\n",
    "# Metodo del - deleta uma chave do dicionario\n",
    "del pessoa2['nome']\n",
    "print(f'Del: {pessoa2}')"
   ]
  },
  {
   "cell_type": "markdown",
   "metadata": {},
   "source": [
    "## ***Type cast (Converção de tipos de variavel)***"
   ]
  },
  {
   "cell_type": "markdown",
   "metadata": {},
   "source": [
    "- Type cast é a conversão de um tipo de dado para outro, por exemplo, int() para converter para inteiro, str() para converter para string, etc\n",
    "- Exceções são erros que ocorrem durante a execução do programa e podem ser tratados usando blocos try-except."
   ]
  },
  {
   "cell_type": "code",
   "execution_count": null,
   "metadata": {},
   "outputs": [],
   "source": [
    "# Exemplo de type cast\n",
    "numero_em_string = \"10\"\n",
    "print(type(numero_em_string))\n",
    "numero_inteiro = int(numero_em_string)\n",
    "print(type(numero_inteiro))\n",
    "\n",
    "numero_em_string = \"20.5\"\n",
    "print(type(numero_em_string))\n",
    "numero_real = float(numero_em_string)\n",
    "print(type(numero_real))"
   ]
  },
  {
   "cell_type": "markdown",
   "metadata": {},
   "source": [
    "- Excessões são a forma de tratar erros no python "
   ]
  },
  {
   "cell_type": "code",
   "execution_count": null,
   "metadata": {},
   "outputs": [],
   "source": [
    "# Exemplo de exceções\n",
    "try:\n",
    "    resultado = 10 / 0\n",
    "except ZeroDivisionError:\n",
    "    print(\"Erro: divisão por zero!\")"
   ]
  },
  {
   "cell_type": "markdown",
   "metadata": {},
   "source": [
    "Algumas das excessões mais usadas são:"
   ]
  },
  {
   "cell_type": "markdown",
   "metadata": {},
   "source": [
    "- Usamos instruções condicionais como if, elif e else para tomar decisões com base em condições\n",
    "- Repetidores como for e while são usados para executar um bloco de código várias vezes"
   ]
  },
  {
   "cell_type": "code",
   "execution_count": null,
   "metadata": {},
   "outputs": [],
   "source": [
    "a = \"1\"\n",
    "b = 1\n",
    "c = 2\n",
    "d = 3\n",
    "#Igualdade\n",
    "print(a == b) #false\n",
    "#Diferente\n",
    "print(a != b) #true\n",
    "#Maior\n",
    "print(b > c) #false\n",
    "#Menor\n",
    "print(b < c) #true\n",
    "#Maior igual\n",
    "print(b >= c) #false\n",
    "#Menor igual\n",
    "print(b <= c) #true\n",
    "#Comparação de intervalo\n",
    "print(b <= c >=d) #false"
   ]
  },
  {
   "cell_type": "markdown",
   "metadata": {},
   "source": [
    "## ***Operadores logicos***"
   ]
  },
  {
   "cell_type": "code",
   "execution_count": null,
   "metadata": {},
   "outputs": [],
   "source": [
    "saldo = 1000\n",
    "saque = 50\n",
    "limite = 100\n",
    "\n",
    "# Operador and (E)\n",
    "print(saldo >= saque and saque <= limite) #true\n",
    "\n",
    "# Operador or (OU)\n",
    "print(saldo >= saque or saque <= limite) #true\n",
    "\n",
    "# Operador not (NAO)\n",
    "print(not saldo >= saque) #false\n",
    "\n",
    "# Operador in (IN)\n",
    "print('a' in 'abc') #true\n",
    "\n",
    "# Operador not in (NOT IN)\n",
    "print('a' not in 'abc') #false\n",
    "\n",
    "# Operador is (IS) - verifica se ambos os valores ocupam a mesma posicao na memoria\n",
    "print(1 is 1) #true \n",
    "\n",
    "# Operador is not (IS NOT) - verifica se ambos os valores ocupam a mesma posicao na memoria\n",
    "print(1 is not 1) #false"
   ]
  },
  {
   "cell_type": "markdown",
   "metadata": {},
   "source": [
    "# ***Condicionais e repetidores***"
   ]
  },
  {
   "cell_type": "markdown",
   "metadata": {},
   "source": [
    "## ***Condicionais***"
   ]
  },
  {
   "cell_type": "code",
   "execution_count": null,
   "metadata": {},
   "outputs": [],
   "source": [
    "import random\n",
    "\n",
    "# Gerar um número aleatório entre 1 e 10\n",
    "x = random.randint(1, 10)\n",
    "print (f'X é {x}')\n",
    "\n",
    "# Exemplo de condicionais\n",
    "\n",
    "# Verificar o valor de x\n",
    "if x > 10:  # Se x for maior que 10\n",
    "    print(\"x é maior que 10\")\n",
    "elif x < 10:  # Se x for menor que 10\n",
    "    print(\"x é menor que 10\")\n",
    "else:  # Se x for igual a 10\n",
    "    print(\"x é igual a 10\")\n",
    "\n",
    "# Exemplo de ternario\n",
    "\n",
    "x = 10\n",
    "resultado = \"positivo\" if x > 0 else (\"negativo\" if x < 0 else \"zero\") # perceba uma segunda condição dentro do parenteses no ternario\n",
    "print(resultado)"
   ]
  },
  {
   "cell_type": "markdown",
   "metadata": {},
   "source": [
    "## ***Repetidores***"
   ]
  },
  {
   "cell_type": "code",
   "execution_count": null,
   "metadata": {},
   "outputs": [],
   "source": [
    "# Exemplo de repetidores\n",
    "\n",
    "# FOR IN\n",
    "for i in range(5):  # Iterar de 0 a 4 (5 vezes)\n",
    "    print(i)  # Imprimir o valor de i\n",
    "else:  # Executar quando o loop terminar\n",
    "    print(\"Fim do loop\")\n",
    "\n",
    "# FOR IN com uso de índice\n",
    "nomes = [\"Ana\", \"João\", \"Maria\", \"Pedro\", \"Carla\"]  # Lista de nomes\n",
    "for i, nome in enumerate(nomes):  # Iterar sobre os índices e valores da lista de nomes\n",
    "    print(i, nome)  # Imprimir o índice e o nome\n",
    "\n",
    "# WHILE\n",
    "contagem = 0\n",
    "while contagem < 5:  # Repetir enquanto contagem for menor que 5\n",
    "    print(contagem)  # Imprimir o valor de contagem\n",
    "    contagem += 1  # Incrementar contagem para evitar um loop infinito"
   ]
  },
  {
   "cell_type": "code",
   "execution_count": null,
   "metadata": {},
   "outputs": [],
   "source": [
    "\n",
    "# Uso do break e continue\n",
    "for i in range(10):\n",
    "    if i == 5:\n",
    "        break  # Sair do loop quando i for igual a 5\n",
    "    print(i)\n",
    "    \n",
    "for i in range(10):\n",
    "    if i % 2 == 1:\n",
    "        continue  # Pular o resto do código quando i for impar\n",
    "    print(i)"
   ]
  },
  {
   "cell_type": "markdown",
   "metadata": {},
   "source": [
    "# ***Funções e funções padrão***"
   ]
  },
  {
   "cell_type": "markdown",
   "metadata": {},
   "source": [
    "- Funções são blocos de código reutilizáveis que executam uma tarefa específica\n",
    "- Funções padrão são aquelas incorporadas ao Python, como print(), len(), range(), etc.\n",
    "- No python as funções podem ter mais de 1 retorno (exemplo abaixo)"
   ]
  },
  {
   "cell_type": "code",
   "execution_count": null,
   "metadata": {},
   "outputs": [],
   "source": [
    "# Exemplo de função\n",
    "def soma(a, b):\n",
    "    return a + b\n",
    "print(soma(5, 3))\n",
    "\n",
    "# Exemplo de função padrão\n",
    "lista = [1, 2, 3, 4, 5]\n",
    "print(len(lista))"
   ]
  },
  {
   "cell_type": "markdown",
   "metadata": {},
   "source": [
    "### **Entradas de funções**"
   ]
  },
  {
   "cell_type": "code",
   "execution_count": null,
   "metadata": {},
   "outputs": [],
   "source": [
    "# Exemplo de função com entrada default\n",
    "def soma(a, b=0): # Se o valor de b não for passado, o valor padrão é 0 automaticamente\n",
    "    return a + b\n",
    "    return a + b\n",
    "print(soma(5))\n",
    "\n",
    "# Existem varias formas de passar argumentos em uma função\n",
    "# 1 - Argumentos nomeados\n",
    "print(soma(b=5, a=3))\n",
    "# 2 - Argumentos posicionais\n",
    "print(soma(3, 5))\n",
    "# 3 - Argumentos de lista\n",
    "print(soma(*[3, 5])) # '*' é usado para passar uma lista como argumento\n",
    "# 4 - Argumentos de dicionário\n",
    "print(soma(**{'a': 3, 'b': 5})) # '**' é usado para passar um dicionário como argumento\n",
    "\n",
    "# args e kwargs - Args recebem valores como uma tupla e os kwargs recebem valores como um dicionário\n",
    "# Exemplo de função com args\n",
    "def soma(*args): # args é uma tupla com todos os argumentos passados\n",
    "    total = 0\n",
    "    for numero in args:\n",
    "        total += numero\n",
    "    return total\n",
    "print(f'Args: {soma(1, 2, 3, 4, 5)}')\n",
    "\n",
    "# Exemplo de função com kwargs\n",
    "def soma(**kwargs): # kwargs é um dicionário com todos os argumentos passados\n",
    "    total = 0\n",
    "    for chave, valor in kwargs.items():\n",
    "        total += valor\n",
    "    return total\n",
    "print(f'Kwargs: {soma(a=1, b=2, c=3, d=4, e=5)}')\n",
    "\n",
    "# Entradas especiais - / (delimita entradas posicionais) e * (delimita entradas nomeadas)\n",
    "# # Exemplo de função com entrada especial\n",
    "def especial (posicional1,posicional2,/,posicional_or_keyword,*,keyword1,keyword2):\n",
    "    print(posicional1, posicional2, posicional_or_keyword, keyword1, keyword2)\n",
    "especial(1, 2, 3, keyword1=4, keyword2=5) # Entradas especiais são usadas para definir os argumentos de entrada\n",
    "\n",
    "# Funções como argumento de função - \n",
    "def subtracao (a,b):\n",
    "    return a - b\n",
    "\n",
    "def calculadora (operacao, a, b):\n",
    "    return operacao(a, b)\n",
    "print(calculadora(subtracao, 5, 3)) # Função como argumento de função\n"
   ]
  },
  {
   "cell_type": "markdown",
   "metadata": {},
   "source": [
    "### **Saidas de função**"
   ]
  },
  {
   "cell_type": "code",
   "execution_count": null,
   "metadata": {},
   "outputs": [],
   "source": [
    "# Exemplo de função com multiplos retornos\n",
    "def antecessor_sucessor(numero):\n",
    "    antecessor = numero - 1\n",
    "    sucessor = numero + 1\n",
    "    return antecessor, sucessor\n",
    "antecessor_sucessor = antecessor_sucessor(5) # Retorna um tupla com os valores antecessor e sucessor\n",
    "print(f'Retornos: {antecessor_sucessor}')"
   ]
  },
  {
   "cell_type": "markdown",
   "metadata": {},
   "source": [
    "### **Escopo local e global**"
   ]
  },
  {
   "cell_type": "code",
   "execution_count": null,
   "metadata": {},
   "outputs": [],
   "source": [
    "# Escopo global - utilizar parte da funçao em escopo global deve ser feito com a palabra dedicada 'global' e nao é uma boa pratica\n",
    "# Exemplo de escopo global\n",
    "salario = 1000\n",
    "def calcular_bonus(bonus):\n",
    "    global salario # Utilizar parte da função em escopo global deve ser feito com a palabra dedicada 'global' e nao é uma boa pratica\n",
    "    salario += bonus\n",
    "    return salario\n",
    "print(calcular_bonus(500))"
   ]
  },
  {
   "cell_type": "markdown",
   "metadata": {},
   "source": [
    "# **Programação Orientada a objetos (POO)**"
   ]
  },
  {
   "cell_type": "markdown",
   "metadata": {},
   "source": [
    "- A intenção da orientação a objetos é trazer o codigo para algo proximo de objetos reais"
   ]
  },
  {
   "cell_type": "markdown",
   "metadata": {},
   "source": [
    "## **Classes e objetos**"
   ]
  },
  {
   "cell_type": "markdown",
   "metadata": {},
   "source": [
    "- Classes são 'padrões' que serão usados pelos objetos\n",
    "- Objetos são criados atraves da aplicação das classes\n",
    "- O metodo construtor é o inicializador da classe e tem o nome __init__\n",
    "- O metodo destrutor é __del__. Em python ele não é tão necessario pois o python lida com o 'lixo' automaticamente"
   ]
  },
  {
   "cell_type": "code",
   "execution_count": null,
   "metadata": {},
   "outputs": [],
   "source": [
    "# Classe\n",
    "class Bicicleta:\n",
    "    def __init__(self, cor, modelo, ano, valor, velocidade=0, quebrada=False): # Esse é o inicializador da classe, serve para alterar as infos\n",
    "        self.cor = cor\n",
    "        self.modelo = modelo\n",
    "        self.ano = ano\n",
    "        self.valor = valor\n",
    "        self.velocidade = velocidade\n",
    "        self.quebrada = quebrada\n",
    "    \n",
    "    def buzinar(self):\n",
    "        print('Buzinando...')\n",
    "\n",
    "    def parar(self):\n",
    "        if self.velocidade > 0:\n",
    "            self.velocidade = 0\n",
    "            print('Parando...')\n",
    "        else:\n",
    "            print('Bicicleta está parada.')\n",
    "\n",
    "    def correr(self):\n",
    "        self.velocidade += 5\n",
    "        print(f'Correndo a {self.velocidade} km/h')\n",
    "        \n",
    "    def evento (self,evento): # Exemplo de metodo que recebe uma condição\n",
    "        if evento == 'buraco':\n",
    "            self.quebrada = True\n",
    "            print('Bicicleta quebrada')\n",
    "        if evento == 'oficina' and self.quebrada == True:\n",
    "            self.quebrada = False\n",
    "            print('Bicicleta consertada')\n",
    "            \n",
    "    # def __str__(self): # Metodo que serve para retornar uma string\n",
    "    #     return f'Bicicleta {self.modelo} da cor {self.cor}'\n",
    "    \n",
    "    # Otimizando o str -> Função de cima otimizada para ser automatica\n",
    "    def __str__(self):\n",
    "        return f'{self.__class__.__name__}: {\", \".join([f\"{valor}\" for chave, valor in self.__dict__.items()])}'\n",
    "\n",
    "# Objeto\n",
    "bike = Bicicleta('Azul', 'BMX', 2020, 5000)\n",
    "\n",
    "# Chamada de metodos\n",
    "bike.buzinar()\n",
    "bike.parar()\n",
    "bike.correr()\n",
    "bike.parar()\n",
    "bike.evento('buraco') # Exemplo de metodo que recebe uma condição\n",
    "bike.evento('oficina') # Exemplo de metodo que recebe uma condição\n",
    "Bicicleta.buzinar(bike) # A chamada do metodo tambem pode ser feita dessa forma, chamando a propria classe e definindo o objeto\n",
    "print(f'Retorno str: {bike}') # a função str na classe serve para criar uma descrição para ela\n"
   ]
  },
  {
   "cell_type": "markdown",
   "metadata": {},
   "source": [
    "## **Herança**"
   ]
  },
  {
   "cell_type": "markdown",
   "metadata": {},
   "source": [
    "- É a capacidade de uma classe filha derivar (herdar) as caracteristicas e comportamentos de uma classe pai\n",
    "- Herança simples é quando a classe filha herda apenas de 1 classe (classe pai)\n",
    "- Herança multipla é quando a classe filha herda de varias classes\n",
    "- Para forçar a chamada de um metodo pai na classe filha usa a função super( ).'nome do metodo'"
   ]
  },
  {
   "cell_type": "code",
   "execution_count": null,
   "metadata": {},
   "outputs": [],
   "source": [
    "# Hands-on - Heranças simples\n",
    "class Veiculo:\n",
    "    def __init__(self, nome, placa, cor):\n",
    "        self.nome = nome\n",
    "        self.placa = placa\n",
    "        self.cor = cor\n",
    "    def ligar(self):\n",
    "        print(f\"\\n{self.nome} está ligado.\")\n",
    "    \n",
    "    def desligar(self):\n",
    "        print(f\"\\n{self.nome} está desligado.\")\n",
    "    \n",
    "    def buzinar(self):\n",
    "        print(f\"\\n{self.nome} está buzinando.\")\n",
    "    \n",
    "    def __str__(self):\n",
    "        return f\"\\n{self.nome} ({self.placa}, {self.cor})\"\n",
    "    \n",
    "class Carro(Veiculo):\n",
    "    def cortar_rotacao(self):\n",
    "        print(f\"\\n{self.nome} está cortando a rotação.\")\n",
    "    \n",
    "class Moto(Veiculo):\n",
    "    def empinar(self):\n",
    "        print(f\"\\n{self.nome} está dando um grau...\")\n",
    "    \n",
    "class Caminhao(Veiculo):\n",
    "    def __init__(self, nome, placa, cor, carga):\n",
    "        self.carga = carga\n",
    "        super().__init__(nome, placa, cor)\n",
    "        \n",
    "    def carregar(self):\n",
    "        if self.carga:\n",
    "            print(f\"\\n{self.nome} está já carregado.\")\n",
    "        else:\n",
    "            print(f\"\\n{self.nome} está carregando.\")\n",
    "        \n",
    "carro = Carro(\"Gol\", \"ABC-1234\", \"Preto\")\n",
    "carro.cortar_rotacao()\n",
    "caminhao = Caminhao(\"Ford\", \"DEF-5678\", \"Branco\",False)\n",
    "caminhao.carregar()\n",
    "moto = Moto(\"Honda\", \"GHI-9012\", \"Vermelha\")\n",
    "moto.empinar()\n",
    "\n",
    "# Hands-on - Heranças múltiplas\n",
    "class Animal:\n",
    "    def __init__(self, especie, cor, peso):\n",
    "        self.especie = especie\n",
    "        self.cor = cor\n",
    "        self.peso = peso\n",
    "\n",
    "class Ave(Animal):\n",
    "    def __init__(self, especie, cor, peso):\n",
    "        super().__init__(especie, cor, peso)\n",
    "        self.voar = False\n",
    "        \n",
    "    def pousar(self):\n",
    "        if self.voar:\n",
    "            print(f\"\\n{self.especie} está pousando.\")\n",
    "        else:\n",
    "            print(f\"\\n{self.especie} não pode pousar.\")\n",
    "\n",
    "class Peixe(Animal):\n",
    "    def __init__(self, especie, cor, peso):\n",
    "        super().__init__(especie, cor, peso)\n",
    "        self.nadar = False\n",
    "    \n",
    "    def mergulhar(self):\n",
    "        if self.nadar:\n",
    "            print(f\"\\n{self.especie} está mergulhando.\")\n",
    "        else:\n",
    "            print(f\"\\n{self.especie} não pode mergulhar.\")\n",
    "\n",
    "class Pato(Ave, Peixe):\n",
    "    def __init__(self, especie, cor, peso, voar, nadar):\n",
    "        super().__init__(especie, cor, peso)\n",
    "        self.voar = voar\n",
    "        self.nadar = nadar\n",
    "\n",
    "    def pousar(self):\n",
    "        super().pousar()\n",
    "\n",
    "    def mergulhar(self):\n",
    "        super().mergulhar()\n",
    "\n",
    "passaro = Ave('Urubu', 'branco', 1)\n",
    "passaro.pousar()\n",
    "\n",
    "peixe = Peixe('Tubarão', 'branco', 20)\n",
    "peixe.mergulhar()\n",
    "\n",
    "patinho = Pato(especie=\"Pato\", cor=\"Preto\", peso=10, voar=True, nadar=True)\n",
    "patinho.pousar()\n",
    "patinho.mergulhar()"
   ]
  },
  {
   "cell_type": "markdown",
   "metadata": {},
   "source": [
    "## **Encapsulamento**"
   ]
  },
  {
   "cell_type": "markdown",
   "metadata": {},
   "source": [
    "- É a ideia de agrupar metodos de uma unidade, protegendo dados de um objeto contra alteração acidental\n",
    "- Em python não existem palavras reservadas para definir/bloquear acesso mas o existem convenções para tal função\n",
    "  - A convenção é que metodos ou valores privadas começam com ***underline***(_)\n",
    "- Acesso publico pode ser alterado fora da classe\n",
    "- Acesso privado só pode ser alterado dentro da classe"
   ]
  },
  {
   "cell_type": "code",
   "execution_count": null,
   "metadata": {},
   "outputs": [],
   "source": [
    "# Exemplo\n",
    "class Conta:\n",
    "    def __init__(self,saldo):\n",
    "        self._saldo = saldo # O _ indica que o atributo é privado e não deve ser manipulado ou acessado fora da classe\n",
    "    \n",
    "    def depositar(self, valor):\n",
    "        self._saldo += valor\n",
    "        print(f'Novo saldo: {self._saldo}')\n",
    "    \n",
    "    def sacar(self,valor):\n",
    "        self._saldo -= valor\n",
    "        print(f'Novo saldo: {self._saldo}')\n",
    "    \n",
    "    def mostrar_saldo(self):\n",
    "        # Aqui podem ocorrer validações para garantir segurança\n",
    "        return self._saldo\n",
    "\n",
    "conta = Conta(1000)\n",
    "print (f\"Seu saldo é: {conta._saldo}\") # Esse acesso não é o ideal, o correto é acessar por metodo (exemplo abaixo)\n",
    "print(f\"Seu saldo é: {conta.mostrar_saldo()}\") # Esse é a forma correta\n"
   ]
  },
  {
   "cell_type": "markdown",
   "metadata": {},
   "source": [
    "## **Property**"
   ]
  },
  {
   "cell_type": "markdown",
   "metadata": {},
   "source": [
    "- Serve para criar atributos gerenciados pela classe\n",
    "- Esses atritutos servem para alterar sua implementação interna sem alterar a API publica da classe\n",
    "- As propriedades são indicadas quando existem logicas especiais para serem feitas, caso não haja não se recomenda o uso\n",
    "- Uma forma de criar um atributo read-only é criar uma property para ele e não criar um setter"
   ]
  },
  {
   "cell_type": "code",
   "execution_count": null,
   "metadata": {},
   "outputs": [],
   "source": [
    "# Exemplo\n",
    "class Foo:\n",
    "    def __init__(self, x=None):\n",
    "        self._x = x\n",
    "    \n",
    "    @property # Obrigatorio para retornar valores\n",
    "    def x(self):\n",
    "        return self._x or 0\n",
    "    \n",
    "    @x.setter # Obrigatorio para setar valores\n",
    "    def x(self, value):\n",
    "        self._x += value\n",
    "\n",
    "    @x.deleter # Obrigatorio para deletar valores. No deleter não exclua a propriedade, em vez disso defina-a com 0\n",
    "    def x(self):\n",
    "        self._x = 0\n",
    "#! Perceba que as 3 propriedades DEVEM ter o mesmo nome de metodo\n",
    "\n",
    "foo = Foo(10)\n",
    "print(foo.x)\n",
    "foo.x = 20\n",
    "print(foo.x)\n",
    "del foo.x\n",
    "print(foo.x)\n",
    "\n",
    "# Exemplo 2\n",
    "\n",
    "class Pessoa:\n",
    "    def __init__(self,nome,ano_nascimento):\n",
    "        self._nome = nome\n",
    "        self._ano_nascimento = ano_nascimento\n",
    "\n",
    "    @property #! A propriedade nome não é indicada nesse caso, pois não existe nenhum logica especial para o nome, nem proteções (setter, deleter)\n",
    "    def nome(self):\n",
    "        return self._nome\n",
    "    \n",
    "    @property #* A propriedade idade é indicada pois existe uma lógica especial para a idade (ano atual - ano de nascimento)\n",
    "    def idade(self):\n",
    "        _ano_atual = 2024\n",
    "        return  _ano_atual - self._ano_nascimento\n",
    "    \n",
    "pessoa = Pessoa('Joao', 1990)\n",
    "print(f\"Nome: {pessoa.nome} \\t Idade: {pessoa.idade} \\t\")"
   ]
  },
  {
   "cell_type": "markdown",
   "metadata": {},
   "source": [
    "## **Polimorfismo**"
   ]
  },
  {
   "cell_type": "markdown",
   "metadata": {},
   "source": [
    "- É ter o mesmo nome de função (mas assinaturas diferentes) mas usada para tipos diferentes\n",
    "- Uma função polimorfica tem comportamentos diferentes de acordo com o valor usado nela\n",
    "- Um bom exemplo de função polimorfica é a função built-in len( )\n",
    "  - len('string') -> conta os caracteres\n",
    "  - len([0,1,2,3]) -> conta os itens da lista\n",
    "- Polimorfismo com herança consiste em sobrescrever metodos da classe pai na classe filha\n",
    "- Ou seja para fazer polimorfismo as classes filhas devem ter metodos com o mesmo nome que a classe pai "
   ]
  },
  {
   "cell_type": "code",
   "execution_count": null,
   "metadata": {},
   "outputs": [],
   "source": [
    "# Exemplo\n",
    "class Passaro:\n",
    "    def voar(self): pass\n",
    "\n",
    "class Pardal(Passaro):\n",
    "    def voar(self):\n",
    "        print(\"Estou voando como um pardal\")\n",
    "        \n",
    "class Pinguin(Passaro):\n",
    "    def voar(self):\n",
    "        print(\"Pinguin não voa\")\n",
    "        \n",
    "def decolar(ave):\n",
    "    ave.voar()\n",
    "# Pode chamar instanciando\n",
    "pardalzinho = Pardal()\n",
    "pinguinzinho = Pinguin()\n",
    "decolar(pardalzinho)\n",
    "decolar(pinguinzinho)\n",
    "# Pode chamar diretamente\n",
    "decolar(Pardal())\n",
    "decolar(Pinguin())"
   ]
  },
  {
   "cell_type": "markdown",
   "metadata": {},
   "source": [
    "## **Interfaces e Classes Abstratas**"
   ]
  },
  {
   "cell_type": "markdown",
   "metadata": {},
   "source": [
    "- **Variaveis de classe** são compartilhados entre os objetos \n",
    "  - São declaradas na 'raiz' da classe, logo na inicialização\n",
    "- **Variaveis de instancia** são diferentes para cada objeto \n",
    "  - São declaradas por metodos e atribuições (Declaradas no self)\n",
    "- **Metodos de classe** são ligados a classe e não ao objeto\n",
    "  - Por convenção é chamado de ***cls***\n",
    "  - Recebe um parametro que aponta para a classe\n",
    "  - Serve para criar metodos de fabrica\n",
    "- **Metodos estaticos** tambem são vinculados à classe mas não podem acessar ou modificar o estado da classe. Esses metodos existem quando faz sentido\n",
    "  - Serve para criar funções utilitarias\n",
    "- **Interfaces** definem o que uma classe deve fazer mas especifica como\n",
    "  - O python não usa a palavra reservada *Interface* para definir interfaces\n",
    "  - Em python utiliza-se classes abstratas para criar contratos\n",
    "- **Classes abstratas** são classes que não podem ser instanciadas\n",
    "  - O python não fornece classes abstratas, em vez disso provê o modulo ABC\n",
    "  - O modulo ABC fornece decorators que transformam classes concretas em classe abstrata. O decorator é para metodo **@abstractmethod** e para property é o **@property** seguido de **@abstractmethod**\n",
    "  - Quando a classe pai é abstrata as classes filhas são **OBRIGADAS** a implementar metodos e propriedades abstratas, do contrario ocorre um erro"
   ]
  },
  {
   "cell_type": "code",
   "execution_count": null,
   "metadata": {},
   "outputs": [],
   "source": [
    "# Exemplos de variaveis de classe e instancia:\n",
    "class Estudante:\n",
    "    escola = 'DIO' #? Variavel de classe\n",
    "    def __init__(self, nome, idade, matricula): #? Variaveis de instancia\n",
    "        self.nome = nome\n",
    "        self.idade = idade\n",
    "        self.matricula = matricula\n",
    "        \n",
    "    def __str__(self) -> str:\n",
    "        return f'{self.nome} tem {self.idade} anos e estuda na {self.escola} sob matricula {self.matricula}'\n",
    "\n",
    "aluno = Estudante('João', 20,1)\n",
    "aluna = Estudante ('Sofia',12,2)\n",
    "print(aluno,aluna)\n",
    "aluno.matricula = 3\n",
    "print(aluno,aluna )\n",
    "Estudante.escola = 'Alura' #* Dessa forma altera a escola de todas as instancias\n",
    "print(aluno, aluna)\n",
    "aluna.escola = 'Cubos Academy' #* Dessa forma altera apenas a escola da aluna e tem precedencia, ver exemplo abaixo\n",
    "print (aluno,aluna)\n",
    "Estudante.escola = 'Maria Macedo'\n",
    "print(aluno, aluna) #* Perceba que a escola de sofia se manteve porque foi alterada diretamente"
   ]
  },
  {
   "cell_type": "code",
   "execution_count": null,
   "metadata": {},
   "outputs": [],
   "source": [
    "# Exemplo de metodos de classe e estaticos\n",
    "class Pessoa:\n",
    "    def __init__(self, nome, idade):\n",
    "        self.nome = nome\n",
    "        self.idade = idade\n",
    "    \n",
    "    @classmethod\n",
    "    def criar_pessoa(cls, nome, idade):\n",
    "        return cls(nome, idade)\n",
    "    \n",
    "    @staticmethod\n",
    "    def ano_nascimento(idade):\n",
    "        ano_atual = 2024\n",
    "        return ano_atual - idade\n",
    "    \n",
    "    def __str__(self):\n",
    "        return f'{self.nome} tem {self.idade} anos e nasceu em {self.ano_nascimento(self.idade)}'\n",
    "    \n",
    "pessoa = Pessoa.criar_pessoa('Felipe', 30)\n",
    "print(pessoa)"
   ]
  },
  {
   "cell_type": "code",
   "execution_count": 51,
   "metadata": {},
   "outputs": [
    {
     "name": "stdout",
     "output_type": "stream",
     "text": [
      "Ligando TV\n"
     ]
    }
   ],
   "source": [
    "# Exemplo de interface e classe abstrata\n",
    "from abc import ABC, abstractmethod\n",
    "\n",
    "\n",
    "class ControleRemoto(ABC): #? Para criar uma interface a classe deve extender o modulo ABC\n",
    "    @abstractmethod #? Marcação de metodo abstrato\n",
    "    def ligar(self):\n",
    "        pass #? Perceba que metodos abstratos não recebem nenhum parametro\n",
    "    \n",
    "    @abstractmethod\n",
    "    def desligar(self):\n",
    "        pass #? Perceba que metodos abstratos não recebem nenhum parametro\n",
    "    \n",
    "    @property\n",
    "    @abstractmethod #?  Marcação de atributo abstrato\n",
    "    def marca(self):\n",
    "        pass\n",
    "\n",
    "class ControleTV(ControleRemoto):\n",
    "    def ligar(self):\n",
    "        print('Ligando TV')\n",
    "        \n",
    "    def desligar(self):\n",
    "        print('Desligando TV')\n",
    "        \n",
    "    def marca(self):\n",
    "        return 'LG'\n",
    "\n",
    "# controle = ControleRemoto() #! Daria erro pois a classe ControleRemoto se tornou abstrata e não pode ser instanciada\n",
    "controle = ControleTV()\n",
    "controle.ligar()"
   ]
  },
  {
   "cell_type": "markdown",
   "metadata": {},
   "source": [
    " # ***Excessões***"
   ]
  },
  {
   "cell_type": "markdown",
   "metadata": {},
   "source": [
    "# ***Arrays e listas linkadas***"
   ]
  },
  {
   "cell_type": "markdown",
   "metadata": {},
   "source": [
    "- Arrays são estruturas de dados que armazenam elementos do mesmo tipo em uma sequência contígua de memória\n",
    "- Listas ligadas são estruturas de dados onde cada elemento é um nó que contém um valor e um ponteiro para o próximo nó"
   ]
  },
  {
   "cell_type": "code",
   "execution_count": null,
   "metadata": {},
   "outputs": [],
   "source": [
    "# Exemplo de arrays (usando listas)\n",
    "array = [1, 2, 3, 4, 5]\n",
    "\n",
    "# Exemplo de listas ligadas\n",
    "class Node:\n",
    "    def __init__(self, valor):\n",
    "        self.valor = valor\n",
    "        self.proximo = None\n",
    "\n",
    "n1 = Node(1)\n",
    "n2 = Node(2)\n",
    "n3 = Node(3)\n",
    "n1.proximo = n2\n",
    "n2.proximo = n3"
   ]
  },
  {
   "cell_type": "markdown",
   "metadata": {},
   "source": [
    "# ***Pilha, monte e filas***\n",
    "- Pilha (stack) é uma estrutura de dados LIFO (Last In, First Out)\n",
    "- Fila (queue) é uma estrutura de dados FIFO (First In, First Out)\n",
    "- Montão (heap) é uma estrutura de dados binária usada para implementar filas de prioridade."
   ]
  },
  {
   "cell_type": "code",
   "execution_count": null,
   "metadata": {},
   "outputs": [],
   "source": [
    "# Exemplo de pilha (stack)\n",
    "pilha = []\n",
    "pilha.append(1) # A função append() adiciona um elemento ao final da lista.\n",
    "pilha.append(2)\n",
    "pilha.append(3)\n",
    "print(pilha.pop())\n",
    "\n",
    "# Exemplo de fila (queue)\n",
    "from collections import deque # Estrutura de dados deque (double-ended queue) é uma estrutura de dados linear, baseada em uma lista duplamente encadeada, que permite adicionar e remover elementos de qualquer lado.\n",
    "fila = deque()\n",
    "fila.append(1)\n",
    "fila.append(2)\n",
    "fila.append(3)\n",
    "print(fila.popleft()) # A função popleft() remove o primeiro elemento da lista e só pode ser usada dentro da estrutura deque"
   ]
  },
  {
   "cell_type": "markdown",
   "metadata": {},
   "source": [
    " # ***Tabelas Hash***\n",
    " - Tabelas hash são estruturas de dados que associam chaves a valores, permitindo acesso rápido aos valores a partir de suas chaves"
   ]
  },
  {
   "cell_type": "code",
   "execution_count": null,
   "metadata": {},
   "outputs": [],
   "source": [
    "# Exemplo de tabela hash (dicionário)\n",
    "tabela_hash = {'a': 1, 'b': 2, 'c': 3}\n",
    "print(tabela_hash['a'])"
   ]
  },
  {
   "cell_type": "markdown",
   "metadata": {},
   "source": [
    "# ***Árvore de busca binária***\n",
    "- Uma árvore de busca binária é uma estrutura de dados na qual cada nó possui no máximo dois filhos, e os nós à esquerda são menores que o nó atual, enquanto os nós à direita são maiores"
   ]
  },
  {
   "cell_type": "code",
   "execution_count": null,
   "metadata": {},
   "outputs": [],
   "source": [
    "# Exemplo de árvore de busca binária\n",
    "class No:\n",
    "    def __init__(self, valor):\n",
    "        self.valor = valor\n",
    "        self.esquerda = None\n",
    "        self.direita = None\n",
    "\n",
    "raiz = No(10)\n",
    "raiz.esquerda = No(5)\n",
    "raiz.direita = No(15)\n"
   ]
  },
  {
   "cell_type": "markdown",
   "metadata": {},
   "source": [
    "# ***Recursão (callbacks)***\n",
    "- A recursão é um conceito onde uma função chama a si mesma para resolver um problema\n",
    "- Cada chamada recursiva resolve uma parte menor do problema até que seja atingido um caso base"
   ]
  },
  {
   "cell_type": "code",
   "execution_count": null,
   "metadata": {},
   "outputs": [],
   "source": [
    "# Exemplo de função recursiva (fatorial)\n",
    "def fatorial(n):\n",
    "    if n == 0:\n",
    "        return 1\n",
    "    return n * fatorial(n-1)\n",
    "# \n",
    "print(fatorial(5))"
   ]
  },
  {
   "cell_type": "markdown",
   "metadata": {},
   "source": [
    "# ***Algoritimos de ordenação***\n",
    "- Existem vários algoritmos de ordenação, como bubble sort, selection sort, insertion sort, merge sort, quick sort, etc., cada um com suas vantagens e desvantagens em termos de tempo de execução e espaço de memória\n",
    "- No geral para fazer a ordenação usa a função sort()"
   ]
  },
  {
   "cell_type": "markdown",
   "metadata": {},
   "source": [
    "## Bubble sort\n",
    "- O Bubble Sort é um algoritmo simples de ordenação que compara repetidamente cada par de elementos adjacentes e os troca se estiverem na ordem errada\n",
    "- Ele passa pela lista várias vezes até que nenhum swap seja necessário, o que significa que a lista está ordenada"
   ]
  },
  {
   "cell_type": "code",
   "execution_count": null,
   "metadata": {},
   "outputs": [],
   "source": [
    "# Exemplo de ordenação (bubble sort)\n",
    "def bubble_sort(lista):\n",
    "    n = len(lista)\n",
    "    for i in range(n-1):\n",
    "        for j in range(0, n-i-1):\n",
    "            if lista[j] > lista[j+1]:\n",
    "                lista[j], lista[j+1] = lista[j+1], lista[j]\n",
    "\n",
    "lista = [64, 34, 25, 12, 22, 11, 90]\n",
    "bubble_sort(lista)\n",
    "print(lista)"
   ]
  },
  {
   "cell_type": "markdown",
   "metadata": {},
   "source": [
    "## Insertion Sort\n",
    "- O Insertion Sort constrói a lista ordenada um elemento de cada vez, movendo os elementos não ordenados para a parte ordenada da lista\n",
    "- Ele percorre a lista e, para cada elemento, encontra a posição correta na parte ordenada e o insere lá."
   ]
  },
  {
   "cell_type": "code",
   "execution_count": null,
   "metadata": {},
   "outputs": [],
   "source": [
    "def insertion_sort(lista):\n",
    "    for i in range(1, len(lista)):\n",
    "        chave = lista[i]\n",
    "        j = i - 1\n",
    "        while j >= 0 and chave < lista[j]:\n",
    "            lista[j + 1] = lista[j]\n",
    "            j -= 1\n",
    "        lista[j + 1] = chave\n",
    "\n",
    "lista = [64, 34, 25, 12, 22, 11, 90]\n",
    "insertion_sort(lista)\n",
    "print(lista)\n"
   ]
  },
  {
   "cell_type": "markdown",
   "metadata": {},
   "source": [
    "## Merge sort\n",
    "- O Merge Sort é um algoritmo de ordenação dividir para conquistar que divide a lista em metades, ordena cada metade e depois mescla as duas metades ordenadas\n",
    "- Ele continua dividindo a lista pela metade até que tenha sublistas de um único elemento, então começa a mesclar essas sublistas em ordem"
   ]
  },
  {
   "cell_type": "code",
   "execution_count": null,
   "metadata": {},
   "outputs": [],
   "source": [
    "def merge_sort(lista):\n",
    "    if len(lista) > 1:\n",
    "        meio = len(lista) // 2\n",
    "        esquerda = lista[:meio]\n",
    "        direita = lista[meio:]\n",
    "\n",
    "        merge_sort(esquerda)\n",
    "        merge_sort(direita)\n",
    "\n",
    "        i = j = k = 0\n",
    "\n",
    "        while i < len(esquerda) and j < len(direita):\n",
    "            if esquerda[i] < direita[j]:\n",
    "                lista[k] = esquerda[i]\n",
    "                i += 1\n",
    "            else:\n",
    "                lista[k] = direita[j]\n",
    "                j += 1\n",
    "            k += 1\n",
    "\n",
    "        while i < len(esquerda):\n",
    "            lista[k] = esquerda[i]\n",
    "            i += 1\n",
    "            k += 1\n",
    "\n",
    "        while j < len(direita):\n",
    "            lista[k] = direita[j]\n",
    "            j += 1\n",
    "            k += 1\n",
    "\n",
    "lista = [64, 34, 25, 12, 22, 11, 90]\n",
    "merge_sort(lista)\n",
    "print(lista)\n"
   ]
  },
  {
   "cell_type": "markdown",
   "metadata": {},
   "source": [
    "## Selection sort\n",
    "- O Selection Sort divide a lista em duas partes: a parte ordenada e a parte não ordenada\n",
    "- A cada iteração, ele encontra o menor elemento da parte não ordenada e o coloca no final da parte ordenada\n",
    "- Ele continua este processo até que toda a lista esteja ordenada"
   ]
  },
  {
   "cell_type": "code",
   "execution_count": null,
   "metadata": {},
   "outputs": [],
   "source": [
    "def selection_sort(lista):\n",
    "    n = len(lista)\n",
    "    for i in range(n-1):\n",
    "        menor_indice = i\n",
    "        for j in range(i+1, n):\n",
    "            if lista[j] < lista[menor_indice]:\n",
    "                menor_indice = j\n",
    "        lista[i], lista[menor_indice] = lista[menor_indice], lista[i]\n",
    "\n",
    "lista = [64, 34, 25, 12, 22, 11, 90]\n",
    "selection_sort(lista)\n",
    "print(lista)\n"
   ]
  },
  {
   "cell_type": "markdown",
   "metadata": {},
   "source": [
    "## Quick sort\n",
    "- O Quick Sort é um algoritmo de ordenação dividir para conquistar que escolhe um elemento pivô na lista e rearranja os elementos de forma que os elementos menores que o pivô estejam antes dele e os maiores após ele\n",
    "- Em seguida, ele recursivamente ordena as sub-listas à esquerda e à direita do pivô"
   ]
  },
  {
   "cell_type": "code",
   "execution_count": null,
   "metadata": {},
   "outputs": [],
   "source": [
    "def quick_sort(lista):\n",
    "    if len(lista) <= 1:\n",
    "        return lista\n",
    "    else:\n",
    "        pivô = lista[0]\n",
    "        menores = [x for x in lista[1:] if x <= pivô]\n",
    "        maiores = [x for x in lista[1:] if x > pivô]\n",
    "        return quick_sort(menores) + [pivô] + quick_sort(maiores)\n",
    "\n",
    "lista = [64, 34, 25, 12, 22, 11, 90]\n",
    "lista_ordenada = quick_sort(lista)\n",
    "print(lista_ordenada)"
   ]
  }
 ],
 "metadata": {
  "kernelspec": {
   "display_name": "Python 3",
   "language": "python",
   "name": "python3"
  },
  "language_info": {
   "codemirror_mode": {
    "name": "ipython",
    "version": 3
   },
   "file_extension": ".py",
   "mimetype": "text/x-python",
   "name": "python",
   "nbconvert_exporter": "python",
   "pygments_lexer": "ipython3",
   "version": "3.11.7"
  }
 },
 "nbformat": 4,
 "nbformat_minor": 2
}
