{
 "cells": [
  {
   "cell_type": "markdown",
   "metadata": {},
   "source": [
    "# **Python**\n"
   ]
  },
  {
   "cell_type": "markdown",
   "metadata": {},
   "source": [
    "# ***Sintaxe Basica***\n"
   ]
  },
  {
   "cell_type": "markdown",
   "metadata": {},
   "source": [
    "**Conceitos**\n",
    "\n",
    "- No python as variaveis são definidas diretamente e não possuem constantes (como o javascript 'const'), ou seja não é possivel impedir que uma variavel seja alterada. Isso requer muita atenção durante a definição das variaveis ao longo do codigo\n",
    "- Comentarios são feitos usando #\n",
    "- No python não são usadas chaves para determinar blocos e a identação é importante. Identação é o alinhamento da escrita do codigo\n",
    "- Cada instrução termina com uma nova linha exceto quando a linha termina com uma barra invertida, isso serve para dividir linhas grandes\n",
    "- O comando print() serve para imprimir retornos no console\n",
    "- O comando input() serve para solicitar uma entrada ao usuario"
   ]
  },
  {
   "cell_type": "code",
   "execution_count": null,
   "metadata": {},
   "outputs": [],
   "source": [
    "# Variaveis\n",
    "x = 5\n",
    "print(x)\n",
    "x = 10\n",
    "print(x)\n",
    "# Linha sendo quebrada com \\ e sendo identada\n",
    "print(x + \\\n",
    "    5)"
   ]
  },
  {
   "cell_type": "markdown",
   "metadata": {},
   "source": [
    "## ***Operadares de comparação***"
   ]
  },
  {
   "cell_type": "code",
   "execution_count": null,
   "metadata": {},
   "outputs": [],
   "source": [
    "a = \"1\"\n",
    "b = 1\n",
    "c = 2\n",
    "d = 3\n",
    "#Igualdade\n",
    "print(a == b) #false\n",
    "#Diferente\n",
    "print(a != b) #true\n",
    "#Maior\n",
    "print(b > c) #false\n",
    "#Menor\n",
    "print(b < c) #true\n",
    "#Maior igual\n",
    "print(b >= c) #false\n",
    "#Menor igual\n",
    "print(b <= c) #true\n",
    "#Comparação de intervalo\n",
    "print(b <= c >=d) #false"
   ]
  },
  {
   "cell_type": "markdown",
   "metadata": {},
   "source": [
    "## ***Operadores logicos***"
   ]
  },
  {
   "cell_type": "code",
   "execution_count": null,
   "metadata": {},
   "outputs": [],
   "source": [
    "saldo = 1000\n",
    "saque = 50\n",
    "limite = 100\n",
    "\n",
    "# Operador and (E)\n",
    "print(saldo >= saque and saque <= limite) #true\n",
    "\n",
    "# Operador or (OU)\n",
    "print(saldo >= saque or saque <= limite) #true\n",
    "\n",
    "# Operador not (NAO)\n",
    "print(not saldo >= saque) #false\n",
    "\n",
    "# Operador in (IN)\n",
    "print('a' in 'abc') #true\n",
    "\n",
    "# Operador not in (NOT IN)\n",
    "print('a' not in 'abc') #false\n",
    "\n",
    "# Operador is (IS) - verifica se ambos os valores ocupam a mesma posicao na memoria\n",
    "print(1 is 1) #true \n",
    "\n",
    "# Operador is not (IS NOT) - verifica se ambos os valores ocupam a mesma posicao na memoria\n",
    "print(1 is not 1) #false"
   ]
  },
  {
   "cell_type": "markdown",
   "metadata": {},
   "source": [
    "# ***Tipos de dados***"
   ]
  },
  {
   "cell_type": "markdown",
   "metadata": {},
   "source": [
    "**Conceitos**\n",
    "\n",
    "- Tipos de dados incluem inteiros (int), números de ponto flutuante (float), strings (str), booleanos (bol), listas, tuplas, sets e dicionários\n",
    "- Listas: coleções ordenadas e ***mutaveis***\n",
    "- Tupla: coleções ordenadas ***imutaveis***\n",
    "- Conjunto(set): coleções não ordenadas de ***itens unicos***\n",
    "- Dicionario: coleções de ***pares chave-valor***, similar aos objetos JS"
   ]
  },
  {
   "cell_type": "code",
   "execution_count": null,
   "metadata": {},
   "outputs": [],
   "source": [
    "# Exemplo de variáveis\n",
    "\n",
    "booleano = True\n",
    "\n",
    "# Exemplo de listas\n",
    "lista = [1, 2, 3, 4, 5]\n",
    "\n",
    "# Exemplo de tuplas\n",
    "tupla = (1, 2, 3, 4, 5)\n",
    "\n",
    "# Exemplo de sets\n",
    "conjunto = {1, 2, 3, 4, 5}\n",
    "\n",
    "# Exemplo de dicionários\n",
    "dicionario = {'a': 'felipe', 'b': 2, 'c': True}"
   ]
  },
  {
   "cell_type": "markdown",
   "metadata": {},
   "source": [
    "## **Strings**"
   ]
  },
  {
   "cell_type": "markdown",
   "metadata": {},
   "source": [
    "**Conceitos**\n",
    "\n",
    "- Strings são caracteres de texto\n",
    "- Usados entre aspas"
   ]
  },
  {
   "cell_type": "code",
   "execution_count": null,
   "metadata": {},
   "outputs": [],
   "source": [
    "texto = \"Olá, mundo!\""
   ]
  },
  {
   "cell_type": "markdown",
   "metadata": {},
   "source": [
    "## **Numeros (int e float)**"
   ]
  },
  {
   "cell_type": "markdown",
   "metadata": {},
   "source": [
    "**Conceitos**\n",
    "\n",
    "- No python os numeros decimais são separados por '.'"
   ]
  },
  {
   "cell_type": "code",
   "execution_count": null,
   "metadata": {},
   "outputs": [],
   "source": [
    "# Exemplo de tipos de dados\n",
    "inteiro = 10\n",
    "flutuante = 3.14"
   ]
  },
  {
   "cell_type": "markdown",
   "metadata": {},
   "source": [
    "### ***Operadores matematicos***"
   ]
  },
  {
   "cell_type": "code",
   "execution_count": null,
   "metadata": {},
   "outputs": [],
   "source": [
    "# Atribuição simples - é possivel atribuir mais de uma variavel ao mesmo tempo\n",
    "y = 10\n",
    "y,z = 10,20\n",
    "# Atribuição composta - faz uma operação com o proprio valor\n",
    "y+= 5 #15\n",
    "print(f'atribuição composta: {y}')\n",
    "# Soma\n",
    "print(f'soma: {1+1}')\n",
    "\n",
    "# Subtração\n",
    "print(f'subtração: {1-1}')\n",
    "\n",
    "# Multiplicação\n",
    "print(f'multiplicação: {2*5}')\n",
    "\n",
    "# Potenciação\n",
    "print(f'potenciação: {2**5}')\n",
    "\n",
    "# Divisão \n",
    "print(f'divisão: {3/2}')\n",
    "\n",
    "# Divisão inteira - retorna apenas o valor inteiro da divisão\n",
    "print(f'divisão inteira: {3//2}')\n",
    "\n",
    "# Resto da divisão\n",
    "print(f'resto da divisão: {3%2}')"
   ]
  },
  {
   "cell_type": "markdown",
   "metadata": {},
   "source": [
    "## **Listas**"
   ]
  },
  {
   "cell_type": "markdown",
   "metadata": {},
   "source": [
    "## **Tuplas**"
   ]
  },
  {
   "cell_type": "markdown",
   "metadata": {},
   "source": [
    "## **Sets**"
   ]
  },
  {
   "cell_type": "markdown",
   "metadata": {},
   "source": [
    "## **Dicionarios**"
   ]
  },
  {
   "cell_type": "markdown",
   "metadata": {},
   "source": [
    "## ***Type cast***\n"
   ]
  },
  {
   "cell_type": "markdown",
   "metadata": {},
   "source": [
    "- Type cast é a conversão de um tipo de dado para outro, por exemplo, int() para converter para inteiro, str() para converter para string, etc\n",
    "- Exceções são erros que ocorrem durante a execução do programa e podem ser tratados usando blocos try-except."
   ]
  },
  {
   "cell_type": "code",
   "execution_count": null,
   "metadata": {},
   "outputs": [],
   "source": [
    "# Exemplo de type cast\n",
    "numero_texto = \"10\"\n",
    "numero_inteiro = int(numero_texto)\n",
    "print(type(numero_inteiro))\n",
    "\n",
    "numero_texto = \"20.5\"\n",
    "numero_real = float(numero_texto)\n",
    "print(type(numero_real))\n"
   ]
  },
  {
   "cell_type": "markdown",
   "metadata": {},
   "source": [
    "- Excessões são a forma de tratar erros no python "
   ]
  },
  {
   "cell_type": "code",
   "execution_count": null,
   "metadata": {},
   "outputs": [],
   "source": [
    "# Exemplo de exceções\n",
    "try:\n",
    "    resultado = 10 / 0\n",
    "except ZeroDivisionError:\n",
    "    print(\"Erro: divisão por zero!\")"
   ]
  },
  {
   "cell_type": "markdown",
   "metadata": {},
   "source": [
    "Algumas das excessões mais usadas são:\n"
   ]
  },
  {
   "cell_type": "markdown",
   "metadata": {},
   "source": [
    "- Usamos instruções condicionais como if, elif e else para tomar decisões com base em condições\n",
    "- Repetidores como for e while são usados para executar um bloco de código várias vezes"
   ]
  },
  {
   "cell_type": "markdown",
   "metadata": {},
   "source": [
    "# ***Condicionais e repetidores***"
   ]
  },
  {
   "cell_type": "markdown",
   "metadata": {},
   "source": [
    "## ***Condicionais***"
   ]
  },
  {
   "cell_type": "code",
   "execution_count": null,
   "metadata": {},
   "outputs": [],
   "source": [
    "import random\n",
    "\n",
    "# Gerar um número aleatório entre 1 e 10\n",
    "x = random.randint(1, 10)\n",
    "print (f'X é {x}')\n",
    "\n",
    "# Exemplo de condicionais\n",
    "\n",
    "# Verificar o valor de x\n",
    "if x > 10:  # Se x for maior que 10\n",
    "    print(\"x é maior que 10\")\n",
    "elif x < 10:  # Se x for menor que 10\n",
    "    print(\"x é menor que 10\")\n",
    "else:  # Se x for igual a 10\n",
    "    print(\"x é igual a 10\")\n",
    "\n",
    "# Exemplo de ternario\n",
    "\n",
    "x = 10\n",
    "resultado = \"positivo\" if x > 0 else (\"negativo\" if x < 0 else \"zero\") # perceba uma segunda condição dentro do parenteses no ternario\n",
    "print(resultado)\n"
   ]
  },
  {
   "cell_type": "markdown",
   "metadata": {},
   "source": [
    "## ***Repetidores***"
   ]
  },
  {
   "cell_type": "code",
   "execution_count": null,
   "metadata": {},
   "outputs": [],
   "source": [
    "# Exemplo de repetidores\n",
    "\n",
    "# FOR IN\n",
    "for i in range(5):  # Iterar de 0 a 4 (5 vezes)\n",
    "    print(i)  # Imprimir o valor de i\n",
    "else:  # Executar quando o loop terminar\n",
    "    print(\"Fim do loop\")\n",
    "\n",
    "# FOR IN com uso de índice\n",
    "nomes = [\"Ana\", \"João\", \"Maria\", \"Pedro\", \"Carla\"]  # Lista de nomes\n",
    "for i, nome in enumerate(nomes):  # Iterar sobre os índices e valores da lista de nomes\n",
    "    print(i, nome)  # Imprimir o índice e o nome\n",
    "\n",
    "# WHILE\n",
    "contagem = 0\n",
    "while contagem < 5:  # Repetir enquanto contagem for menor que 5\n",
    "    print(contagem)  # Imprimir o valor de contagem\n",
    "    contagem += 1  # Incrementar contagem para evitar um loop infinito"
   ]
  },
  {
   "cell_type": "code",
   "execution_count": null,
   "metadata": {},
   "outputs": [],
   "source": [
    "\n",
    "# Uso do break e continue\n",
    "for i in range(10):\n",
    "    if i == 5:\n",
    "        break  # Sair do loop quando i for igual a 5\n",
    "    print(i)\n",
    "    \n",
    "for i in range(10):\n",
    "    if i % 2 == 1:\n",
    "        continue  # Pular o resto do código quando i for impar\n",
    "    print(i)"
   ]
  },
  {
   "cell_type": "markdown",
   "metadata": {},
   "source": [
    "# ***Funções e funções padrão***"
   ]
  },
  {
   "cell_type": "markdown",
   "metadata": {},
   "source": [
    "- Funções são blocos de código reutilizáveis que executam uma tarefa específica\n",
    "- Funções padrão são aquelas incorporadas ao Python, como print(), len(), range(), etc."
   ]
  },
  {
   "cell_type": "code",
   "execution_count": null,
   "metadata": {},
   "outputs": [],
   "source": [
    "# Exemplo de função\n",
    "def soma(a, b):\n",
    "    return a + b\n",
    "\n",
    "print(soma(5, 3))"
   ]
  },
  {
   "cell_type": "code",
   "execution_count": null,
   "metadata": {},
   "outputs": [],
   "source": [
    "# Exemplo de função padrão\n",
    "lista = [1, 2, 3, 4, 5]\n",
    "print(len(lista))"
   ]
  },
  {
   "cell_type": "markdown",
   "metadata": {},
   "source": [
    " # ***Excessões***"
   ]
  },
  {
   "cell_type": "markdown",
   "metadata": {},
   "source": [
    "# ***Arrays e listas linkadas***"
   ]
  },
  {
   "cell_type": "markdown",
   "metadata": {},
   "source": [
    "- Arrays são estruturas de dados que armazenam elementos do mesmo tipo em uma sequência contígua de memória\n",
    "- Listas ligadas são estruturas de dados onde cada elemento é um nó que contém um valor e um ponteiro para o próximo nó"
   ]
  },
  {
   "cell_type": "code",
   "execution_count": null,
   "metadata": {},
   "outputs": [],
   "source": [
    "# Exemplo de arrays (usando listas)\n",
    "array = [1, 2, 3, 4, 5]\n",
    "\n",
    "# Exemplo de listas ligadas\n",
    "class Node:\n",
    "    def __init__(self, valor):\n",
    "        self.valor = valor\n",
    "        self.proximo = None\n",
    "\n",
    "n1 = Node(1)\n",
    "n2 = Node(2)\n",
    "n3 = Node(3)\n",
    "n1.proximo = n2\n",
    "n2.proximo = n3"
   ]
  },
  {
   "cell_type": "markdown",
   "metadata": {},
   "source": [
    "# ***Pilha, monte e filas***\n",
    "- Pilha (stack) é uma estrutura de dados LIFO (Last In, First Out)\n",
    "- Fila (queue) é uma estrutura de dados FIFO (First In, First Out)\n",
    "- Montão (heap) é uma estrutura de dados binária usada para implementar filas de prioridade."
   ]
  },
  {
   "cell_type": "code",
   "execution_count": null,
   "metadata": {},
   "outputs": [],
   "source": [
    "# Exemplo de pilha (stack)\n",
    "pilha = []\n",
    "pilha.append(1) # A função append() adiciona um elemento ao final da lista.\n",
    "pilha.append(2)\n",
    "pilha.append(3)\n",
    "print(pilha.pop())\n",
    "\n",
    "# Exemplo de fila (queue)\n",
    "from collections import deque # Estrutura de dados deque (double-ended queue) é uma estrutura de dados linear, baseada em uma lista duplamente encadeada, que permite adicionar e remover elementos de qualquer lado.\n",
    "fila = deque()\n",
    "fila.append(1)\n",
    "fila.append(2)\n",
    "fila.append(3)\n",
    "print(fila.popleft()) # A função popleft() remove o primeiro elemento da lista e só pode ser usada dentro da estrutura deque"
   ]
  },
  {
   "cell_type": "markdown",
   "metadata": {},
   "source": [
    " # ***Tabelas Hash***\n",
    " - Tabelas hash são estruturas de dados que associam chaves a valores, permitindo acesso rápido aos valores a partir de suas chaves"
   ]
  },
  {
   "cell_type": "code",
   "execution_count": null,
   "metadata": {},
   "outputs": [],
   "source": [
    "# Exemplo de tabela hash (dicionário)\n",
    "tabela_hash = {'a': 1, 'b': 2, 'c': 3}\n",
    "print(tabela_hash['a'])"
   ]
  },
  {
   "cell_type": "markdown",
   "metadata": {},
   "source": [
    "# ***Árvore de busca binária***\n",
    "- Uma árvore de busca binária é uma estrutura de dados na qual cada nó possui no máximo dois filhos, e os nós à esquerda são menores que o nó atual, enquanto os nós à direita são maiores"
   ]
  },
  {
   "cell_type": "code",
   "execution_count": null,
   "metadata": {},
   "outputs": [],
   "source": [
    "# Exemplo de árvore de busca binária\n",
    "class No:\n",
    "    def __init__(self, valor):\n",
    "        self.valor = valor\n",
    "        self.esquerda = None\n",
    "        self.direita = None\n",
    "\n",
    "raiz = No(10)\n",
    "raiz.esquerda = No(5)\n",
    "raiz.direita = No(15)\n"
   ]
  },
  {
   "cell_type": "markdown",
   "metadata": {},
   "source": [
    "# ***Recursão (callbacks)***\n",
    "- A recursão é um conceito onde uma função chama a si mesma para resolver um problema\n",
    "- Cada chamada recursiva resolve uma parte menor do problema até que seja atingido um caso base"
   ]
  },
  {
   "cell_type": "code",
   "execution_count": null,
   "metadata": {},
   "outputs": [],
   "source": [
    "# Exemplo de função recursiva (fatorial)\n",
    "def fatorial(n):\n",
    "    if n == 0:\n",
    "        return 1\n",
    "    return n * fatorial(n-1)\n",
    "# \n",
    "print(fatorial(5))"
   ]
  },
  {
   "cell_type": "markdown",
   "metadata": {},
   "source": [
    "# ***Ordenação de algoritimos***\n",
    "- Existem vários algoritmos de ordenação, como bubble sort, selection sort, insertion sort, merge sort, quick sort, etc., cada um com suas vantagens e desvantagens em termos de tempo de execução e espaço de memória\n",
    "- No geral para fazer a ordenação usa a função sort()"
   ]
  },
  {
   "cell_type": "markdown",
   "metadata": {},
   "source": [
    "## Bubble sort\n",
    "- O Bubble Sort é um algoritmo simples de ordenação que compara repetidamente cada par de elementos adjacentes e os troca se estiverem na ordem errada\n",
    "- Ele passa pela lista várias vezes até que nenhum swap seja necessário, o que significa que a lista está ordenada"
   ]
  },
  {
   "cell_type": "code",
   "execution_count": null,
   "metadata": {},
   "outputs": [],
   "source": [
    "# Exemplo de ordenação (bubble sort)\n",
    "def bubble_sort(lista):\n",
    "    n = len(lista)\n",
    "    for i in range(n-1):\n",
    "        for j in range(0, n-i-1):\n",
    "            if lista[j] > lista[j+1]:\n",
    "                lista[j], lista[j+1] = lista[j+1], lista[j]\n",
    "\n",
    "lista = [64, 34, 25, 12, 22, 11, 90]\n",
    "bubble_sort(lista)\n",
    "print(lista)"
   ]
  },
  {
   "cell_type": "markdown",
   "metadata": {},
   "source": [
    "## Insertion Sort\n",
    "- O Insertion Sort constrói a lista ordenada um elemento de cada vez, movendo os elementos não ordenados para a parte ordenada da lista\n",
    "- Ele percorre a lista e, para cada elemento, encontra a posição correta na parte ordenada e o insere lá."
   ]
  },
  {
   "cell_type": "code",
   "execution_count": null,
   "metadata": {},
   "outputs": [],
   "source": [
    "def insertion_sort(lista):\n",
    "    for i in range(1, len(lista)):\n",
    "        chave = lista[i]\n",
    "        j = i - 1\n",
    "        while j >= 0 and chave < lista[j]:\n",
    "            lista[j + 1] = lista[j]\n",
    "            j -= 1\n",
    "        lista[j + 1] = chave\n",
    "\n",
    "lista = [64, 34, 25, 12, 22, 11, 90]\n",
    "insertion_sort(lista)\n",
    "print(lista)\n"
   ]
  },
  {
   "cell_type": "markdown",
   "metadata": {},
   "source": [
    "## Merge sort\n",
    "- O Merge Sort é um algoritmo de ordenação dividir para conquistar que divide a lista em metades, ordena cada metade e depois mescla as duas metades ordenadas\n",
    "- Ele continua dividindo a lista pela metade até que tenha sublistas de um único elemento, então começa a mesclar essas sublistas em ordem"
   ]
  },
  {
   "cell_type": "code",
   "execution_count": null,
   "metadata": {},
   "outputs": [],
   "source": [
    "def merge_sort(lista):\n",
    "    if len(lista) > 1:\n",
    "        meio = len(lista) // 2\n",
    "        esquerda = lista[:meio]\n",
    "        direita = lista[meio:]\n",
    "\n",
    "        merge_sort(esquerda)\n",
    "        merge_sort(direita)\n",
    "\n",
    "        i = j = k = 0\n",
    "\n",
    "        while i < len(esquerda) and j < len(direita):\n",
    "            if esquerda[i] < direita[j]:\n",
    "                lista[k] = esquerda[i]\n",
    "                i += 1\n",
    "            else:\n",
    "                lista[k] = direita[j]\n",
    "                j += 1\n",
    "            k += 1\n",
    "\n",
    "        while i < len(esquerda):\n",
    "            lista[k] = esquerda[i]\n",
    "            i += 1\n",
    "            k += 1\n",
    "\n",
    "        while j < len(direita):\n",
    "            lista[k] = direita[j]\n",
    "            j += 1\n",
    "            k += 1\n",
    "\n",
    "lista = [64, 34, 25, 12, 22, 11, 90]\n",
    "merge_sort(lista)\n",
    "print(lista)\n"
   ]
  },
  {
   "cell_type": "markdown",
   "metadata": {},
   "source": [
    "## Selection sort\n",
    "- O Selection Sort divide a lista em duas partes: a parte ordenada e a parte não ordenada\n",
    "- A cada iteração, ele encontra o menor elemento da parte não ordenada e o coloca no final da parte ordenada\n",
    "- Ele continua este processo até que toda a lista esteja ordenada"
   ]
  },
  {
   "cell_type": "code",
   "execution_count": null,
   "metadata": {},
   "outputs": [],
   "source": [
    "def selection_sort(lista):\n",
    "    n = len(lista)\n",
    "    for i in range(n-1):\n",
    "        menor_indice = i\n",
    "        for j in range(i+1, n):\n",
    "            if lista[j] < lista[menor_indice]:\n",
    "                menor_indice = j\n",
    "        lista[i], lista[menor_indice] = lista[menor_indice], lista[i]\n",
    "\n",
    "lista = [64, 34, 25, 12, 22, 11, 90]\n",
    "selection_sort(lista)\n",
    "print(lista)\n"
   ]
  },
  {
   "cell_type": "markdown",
   "metadata": {},
   "source": [
    "## Quick sort\n",
    "- O Quick Sort é um algoritmo de ordenação dividir para conquistar que escolhe um elemento pivô na lista e rearranja os elementos de forma que os elementos menores que o pivô estejam antes dele e os maiores após ele\n",
    "- Em seguida, ele recursivamente ordena as sub-listas à esquerda e à direita do pivô"
   ]
  },
  {
   "cell_type": "code",
   "execution_count": null,
   "metadata": {},
   "outputs": [],
   "source": [
    "def quick_sort(lista):\n",
    "    if len(lista) <= 1:\n",
    "        return lista\n",
    "    else:\n",
    "        pivô = lista[0]\n",
    "        menores = [x for x in lista[1:] if x <= pivô]\n",
    "        maiores = [x for x in lista[1:] if x > pivô]\n",
    "        return quick_sort(menores) + [pivô] + quick_sort(maiores)\n",
    "\n",
    "lista = [64, 34, 25, 12, 22, 11, 90]\n",
    "lista_ordenada = quick_sort(lista)\n",
    "print(lista_ordenada)"
   ]
  }
 ],
 "metadata": {
  "kernelspec": {
   "display_name": "Python 3",
   "language": "python",
   "name": "python3"
  },
  "language_info": {
   "codemirror_mode": {
    "name": "ipython",
    "version": 3
   },
   "file_extension": ".py",
   "mimetype": "text/x-python",
   "name": "python",
   "nbconvert_exporter": "python",
   "pygments_lexer": "ipython3",
   "version": "3.11.7"
  }
 },
 "nbformat": 4,
 "nbformat_minor": 2
}
