{
 "cells": [
  {
   "cell_type": "markdown",
   "metadata": {},
   "source": [
    "# Criando a primeira API com Django\n",
    "\n",
    "## 1. Passo - Criando um ambiente virtual (venv)\n",
    "````bash\n",
    "python -m venv venv\n",
    "````\n",
    "## 2. Passo - Ativando o ambiente virtual\n",
    "````bash\n",
    "venv\\Scripts\\Activate\n",
    "````\n",
    "Se ocorrer algum erro executar o comando abaixo e tentar de novo\n",
    "````bash\n",
    "Set-ExecutionPolicy -Scope CurrentUser -ExecutionPolicy RemoteSigned\n",
    "````\n",
    "## 3. Instalando o Django\n",
    "````bash\n",
    "pip install django\n",
    "````\n",
    "\n",
    "## 4. Criar o projeto django\n",
    "````bash\n",
    "django-admin startproject 'nome-do-projeto' \n",
    "````"
   ]
  }
 ],
 "metadata": {
  "language_info": {
   "name": "python"
  }
 },
 "nbformat": 4,
 "nbformat_minor": 2
}
