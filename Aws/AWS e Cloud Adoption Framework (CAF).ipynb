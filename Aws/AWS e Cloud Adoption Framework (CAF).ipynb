{
 "cells": [
  {
   "cell_type": "markdown",
   "metadata": {},
   "source": [
    "- [**AWS**](#aws)\n",
    "- [**AWS Cloud Adoption Framework (AWS CAF)**](#aws-cloud-adoption-framework-aws-caf)\n",
    "\n",
    "# **AWS**\n",
    "\n",
    "A aws é um provedor de serviços web. Um serviço da web é qualquer parte do software disponibilizada pela Internet. Ele usa um formato padronizado, como XML ou JavaScript Object Notation (JSON), para solicitação e resposta de uma interação de uma interface de programação de aplicativo (API).\n",
    "\n",
    "Existem 3 formas de interagir com a AWS:\n",
    "\n",
    "1. **Console Web**: Interface gráfica\n",
    "2. **AWS Command Line Interface (CLI)**: Interface de linha de comando\n",
    "3. **Amazon SDKs, APIs e bibliotecas**: Kits de programação de interface (API's), bibliotecas e SDK's\n",
    "\n",
    "# **AWS Cloud Adoption Framework (AWS CAF)**\n",
    "\n",
    "- O AWS CAF oferece orientações e práticas recomendadas para ajudar as organizações a criar uma abordagem abrangente de computação em nuvem em toda a organização e durante todo o ciclo de vida da TI para acelerar a adoção bem-sucedida da nuvem\n",
    "- O AWS CAF está estruturado em torno de seis perspectivas. Essas perspectivas consistem em conjuntos de recursos\n",
    "\n",
    "  1. **_`Negocios`_** -> Recurso empresarial\n",
    "\n",
    "  - É necessário garantir que a TI esteja alinhada com as necessidades empresariais e que os investimentos em TI possam ser relacionados a resultados de negócios demonstráveis\n",
    "  - Principais recursos em foco são: `finanças de TI, estrategia de TI, realização de beneficios, gerenciamento de riscos empresariais`\n",
    "\n",
    "  2. **_`Pessoas`_** -> Recurso empresarial\n",
    "\n",
    "  - É necessário priorizar o treinamento, a equipe e as mudanças organizacionais para criar uma organização ágil\n",
    "  - Principais recursos em foco são: `gerenciamento de recursos, gerenciamento de incentivos, gerenciamento de carreiras, gerenciamento de treinamento, gerenciamento de mudanças organizacionais`\n",
    "\n",
    "  3. **_`Governança`_** -> Recurso empresarial\n",
    "\n",
    "  - É necessário garantir que as habilidades e os processos alinhem a estratégia e as metas de TI com a estratégia e as metas empresariais para que a organização possa maximizar o valor comercial de seu investimento em TI e minimizar os riscos empresariais\n",
    "  - Principais recursos em foco são: `gerenciamento de portifolio, gerenciamento de programas e projetos, medição de desempenho dos negocios, gerenciamento de licença`\n",
    "\n",
    "  4. **_`Plataforma`_** -> Recurso tecnico\n",
    "\n",
    "  - É necessário compreender e comunicar a natureza dos sistemas de TI e as relações entre eles. Devemos ter capacidade para descrever a arquitetura do ambiente do estado de destino em detalhes\n",
    "  - Principais recursos em foco são: `provisionamento de computação, provisionamento de rede, posicionamento de armazenamento, provisionamento de banco de dados, arquitetura de sistemas e soluções, desenvolvimento de aplicativos`\n",
    "\n",
    "  5. **_`Segurança`_** -> Recurso tecnico\n",
    "\n",
    "  - É necessário garantir que a organização atenda aos seus objetivos de segurança\n",
    "  - Principais recursos em foco são: `gerenciamento de identidade de acesso, controle de detecção, segurança da infraestrutura, proteção de dados, resposta a incidentes`\n",
    "\n",
    "  6. **_`Operações`_** -> Recurso tecnico\n",
    "\n",
    "  - Alinhar e apoiar as operações da empresa e definimos como os negócios serão conduzidos a cada dia, trimestre e ano\n",
    "  - Principais recursos em foco são: `Monitoramento de serviços, monitoramento de desempenho de aplicativos, gerenciamento de inventario de recursos, gerenciamento de versões ou alterações, relatorios e analise, continuidade dos negocios ou recuperação de desastres, catalogo dos serviços de TI`\n",
    "\n",
    "- A responsabilidade sobre os recursos fica a cargo dos **`stakeholders`**\n"
   ]
  }
 ],
 "metadata": {
  "language_info": {
   "name": "python"
  }
 },
 "nbformat": 4,
 "nbformat_minor": 2
}
